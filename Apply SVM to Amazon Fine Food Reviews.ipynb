{
 "cells": [
  {
   "cell_type": "markdown",
   "metadata": {},
   "source": [
    "# OBJECTIVE : Apply RBF-SVC on Amazon Food Reviews Dataset"
   ]
  },
  {
   "cell_type": "markdown",
   "metadata": {},
   "source": [
    "# NOTE :-"
   ]
  },
  {
   "cell_type": "markdown",
   "metadata": {},
   "source": [
    "Since Amazon Fine Food Reviews Dataset have large number of datapoints , so applying SVM on it will be computationally expensive and will take a lot off time during training as its training time complexity is of the order of 'O(n^2)'. Instead I will use \"sklearn’s SGDClassifier \" with \"hinge-loss\" for completing this assignment"
   ]
  },
  {
   "cell_type": "code",
   "execution_count": 2,
   "metadata": {},
   "outputs": [],
   "source": [
    "# Importing libraries\n",
    "import warnings\n",
    "warnings.filterwarnings(\"ignore\")\n",
    "\n",
    "import sqlite3\n",
    "import pandas as pd\n",
    "import numpy as np\n",
    "import nltk\n",
    "import string\n",
    "import matplotlib.pyplot as plt\n",
    "%matplotlib inline\n",
    "import seaborn as sns\n",
    "from sklearn.feature_extraction.text import TfidfTransformer\n",
    "from sklearn.feature_extraction.text import TfidfVectorizer\n",
    "\n",
    "from sklearn.feature_extraction.text import CountVectorizer\n",
    "from nltk.stem.porter import PorterStemmer\n",
    "\n",
    "import re\n",
    "\n",
    "import string\n",
    "from nltk.corpus import stopwords\n",
    "from nltk.stem import PorterStemmer\n",
    "from nltk.stem.wordnet import WordNetLemmatizer\n",
    "\n",
    "from gensim.models import Word2Vec\n",
    "from gensim.models import KeyedVectors\n",
    "import pickle"
   ]
  },
  {
   "cell_type": "markdown",
   "metadata": {},
   "source": [
    "# Loading Data"
   ]
  },
  {
   "cell_type": "code",
   "execution_count": 3,
   "metadata": {},
   "outputs": [
    {
     "name": "stdout",
     "output_type": "stream",
     "text": [
      "(525814, 10)\n"
     ]
    },
    {
     "data": {
      "text/html": [
       "<div>\n",
       "<style scoped>\n",
       "    .dataframe tbody tr th:only-of-type {\n",
       "        vertical-align: middle;\n",
       "    }\n",
       "\n",
       "    .dataframe tbody tr th {\n",
       "        vertical-align: top;\n",
       "    }\n",
       "\n",
       "    .dataframe thead th {\n",
       "        text-align: right;\n",
       "    }\n",
       "</style>\n",
       "<table border=\"1\" class=\"dataframe\">\n",
       "  <thead>\n",
       "    <tr style=\"text-align: right;\">\n",
       "      <th></th>\n",
       "      <th>Id</th>\n",
       "      <th>ProductId</th>\n",
       "      <th>UserId</th>\n",
       "      <th>ProfileName</th>\n",
       "      <th>HelpfulnessNumerator</th>\n",
       "      <th>HelpfulnessDenominator</th>\n",
       "      <th>Score</th>\n",
       "      <th>Time</th>\n",
       "      <th>Summary</th>\n",
       "      <th>Text</th>\n",
       "    </tr>\n",
       "  </thead>\n",
       "  <tbody>\n",
       "    <tr>\n",
       "      <th>0</th>\n",
       "      <td>1</td>\n",
       "      <td>B001E4KFG0</td>\n",
       "      <td>A3SGXH7AUHU8GW</td>\n",
       "      <td>delmartian</td>\n",
       "      <td>1</td>\n",
       "      <td>1</td>\n",
       "      <td>positive</td>\n",
       "      <td>1303862400</td>\n",
       "      <td>Good Quality Dog Food</td>\n",
       "      <td>I have bought several of the Vitality canned d...</td>\n",
       "    </tr>\n",
       "    <tr>\n",
       "      <th>1</th>\n",
       "      <td>2</td>\n",
       "      <td>B00813GRG4</td>\n",
       "      <td>A1D87F6ZCVE5NK</td>\n",
       "      <td>dll pa</td>\n",
       "      <td>0</td>\n",
       "      <td>0</td>\n",
       "      <td>negative</td>\n",
       "      <td>1346976000</td>\n",
       "      <td>Not as Advertised</td>\n",
       "      <td>Product arrived labeled as Jumbo Salted Peanut...</td>\n",
       "    </tr>\n",
       "    <tr>\n",
       "      <th>2</th>\n",
       "      <td>3</td>\n",
       "      <td>B000LQOCH0</td>\n",
       "      <td>ABXLMWJIXXAIN</td>\n",
       "      <td>Natalia Corres \"Natalia Corres\"</td>\n",
       "      <td>1</td>\n",
       "      <td>1</td>\n",
       "      <td>positive</td>\n",
       "      <td>1219017600</td>\n",
       "      <td>\"Delight\" says it all</td>\n",
       "      <td>This is a confection that has been around a fe...</td>\n",
       "    </tr>\n",
       "    <tr>\n",
       "      <th>3</th>\n",
       "      <td>4</td>\n",
       "      <td>B000UA0QIQ</td>\n",
       "      <td>A395BORC6FGVXV</td>\n",
       "      <td>Karl</td>\n",
       "      <td>3</td>\n",
       "      <td>3</td>\n",
       "      <td>negative</td>\n",
       "      <td>1307923200</td>\n",
       "      <td>Cough Medicine</td>\n",
       "      <td>If you are looking for the secret ingredient i...</td>\n",
       "    </tr>\n",
       "    <tr>\n",
       "      <th>4</th>\n",
       "      <td>5</td>\n",
       "      <td>B006K2ZZ7K</td>\n",
       "      <td>A1UQRSCLF8GW1T</td>\n",
       "      <td>Michael D. Bigham \"M. Wassir\"</td>\n",
       "      <td>0</td>\n",
       "      <td>0</td>\n",
       "      <td>positive</td>\n",
       "      <td>1350777600</td>\n",
       "      <td>Great taffy</td>\n",
       "      <td>Great taffy at a great price.  There was a wid...</td>\n",
       "    </tr>\n",
       "  </tbody>\n",
       "</table>\n",
       "</div>"
      ],
      "text/plain": [
       "   Id   ProductId          UserId                      ProfileName  \\\n",
       "0   1  B001E4KFG0  A3SGXH7AUHU8GW                       delmartian   \n",
       "1   2  B00813GRG4  A1D87F6ZCVE5NK                           dll pa   \n",
       "2   3  B000LQOCH0   ABXLMWJIXXAIN  Natalia Corres \"Natalia Corres\"   \n",
       "3   4  B000UA0QIQ  A395BORC6FGVXV                             Karl   \n",
       "4   5  B006K2ZZ7K  A1UQRSCLF8GW1T    Michael D. Bigham \"M. Wassir\"   \n",
       "\n",
       "   HelpfulnessNumerator  HelpfulnessDenominator     Score        Time  \\\n",
       "0                     1                       1  positive  1303862400   \n",
       "1                     0                       0  negative  1346976000   \n",
       "2                     1                       1  positive  1219017600   \n",
       "3                     3                       3  negative  1307923200   \n",
       "4                     0                       0  positive  1350777600   \n",
       "\n",
       "                 Summary                                               Text  \n",
       "0  Good Quality Dog Food  I have bought several of the Vitality canned d...  \n",
       "1      Not as Advertised  Product arrived labeled as Jumbo Salted Peanut...  \n",
       "2  \"Delight\" says it all  This is a confection that has been around a fe...  \n",
       "3         Cough Medicine  If you are looking for the secret ingredient i...  \n",
       "4            Great taffy  Great taffy at a great price.  There was a wid...  "
      ]
     },
     "execution_count": 3,
     "metadata": {},
     "output_type": "execute_result"
    }
   ],
   "source": [
    "# using the SQLite Table to read data.\n",
    "con1 = sqlite3.connect('database.sqlite')\n",
    "\n",
    "# Eliminating neutral reviews i.e. those reviews with Score = 3\n",
    "filtered_data = pd.read_sql_query(\" SELECT * FROM Reviews WHERE Score != 3 \", con1)\n",
    "\n",
    "# Give reviews with Score>3 a positive rating, and reviews with a score<3 a negative rating.\n",
    "def polarity(x):\n",
    "    if x < 3:\n",
    "        return 'negative'\n",
    "    return 'positive'\n",
    "\n",
    "# Applying polarity function on Score column of filtered_data\n",
    "filtered_data['Score'] = filtered_data['Score'].map(polarity)\n",
    "\n",
    "print(filtered_data.shape)\n",
    "filtered_data.head()"
   ]
  },
  {
   "cell_type": "markdown",
   "metadata": {},
   "source": [
    "# Data Cleaning: Deduplication"
   ]
  },
  {
   "cell_type": "code",
   "execution_count": 4,
   "metadata": {},
   "outputs": [
    {
     "name": "stdout",
     "output_type": "stream",
     "text": [
      "(364173, 10)\n"
     ]
    },
    {
     "data": {
      "text/plain": [
       "69.25890143662969"
      ]
     },
     "execution_count": 4,
     "metadata": {},
     "output_type": "execute_result"
    }
   ],
   "source": [
    "#Sorting data according to ProductId in ascending order\n",
    "sorted_data=filtered_data.sort_values('ProductId', axis=0, ascending=True, inplace=False, kind='quicksort', na_position='last')\n",
    "\n",
    "#Deduplication of entries\n",
    "final=sorted_data.drop_duplicates(subset={\"UserId\",\"ProfileName\",\"Time\",\"Text\"}, keep='first', inplace=False)\n",
    "print(final.shape)\n",
    "\n",
    "#Checking to see how much % of data still remains\n",
    "((final.shape[0]*1.0)/(filtered_data.shape[0]*1.0)*100)"
   ]
  },
  {
   "cell_type": "code",
   "execution_count": 5,
   "metadata": {},
   "outputs": [
    {
     "name": "stdout",
     "output_type": "stream",
     "text": [
      "(364171, 10)\n"
     ]
    },
    {
     "data": {
      "text/html": [
       "<div>\n",
       "<style scoped>\n",
       "    .dataframe tbody tr th:only-of-type {\n",
       "        vertical-align: middle;\n",
       "    }\n",
       "\n",
       "    .dataframe tbody tr th {\n",
       "        vertical-align: top;\n",
       "    }\n",
       "\n",
       "    .dataframe thead th {\n",
       "        text-align: right;\n",
       "    }\n",
       "</style>\n",
       "<table border=\"1\" class=\"dataframe\">\n",
       "  <thead>\n",
       "    <tr style=\"text-align: right;\">\n",
       "      <th></th>\n",
       "      <th>Id</th>\n",
       "      <th>ProductId</th>\n",
       "      <th>UserId</th>\n",
       "      <th>ProfileName</th>\n",
       "      <th>HelpfulnessNumerator</th>\n",
       "      <th>HelpfulnessDenominator</th>\n",
       "      <th>Score</th>\n",
       "      <th>Time</th>\n",
       "      <th>Summary</th>\n",
       "      <th>Text</th>\n",
       "    </tr>\n",
       "  </thead>\n",
       "  <tbody>\n",
       "    <tr>\n",
       "      <th>138683</th>\n",
       "      <td>150501</td>\n",
       "      <td>0006641040</td>\n",
       "      <td>AJ46FKXOVC7NR</td>\n",
       "      <td>Nicholas A Mesiano</td>\n",
       "      <td>2</td>\n",
       "      <td>2</td>\n",
       "      <td>positive</td>\n",
       "      <td>940809600</td>\n",
       "      <td>This whole series is great way to spend time w...</td>\n",
       "      <td>I can remember seeing the show when it aired o...</td>\n",
       "    </tr>\n",
       "    <tr>\n",
       "      <th>138676</th>\n",
       "      <td>150493</td>\n",
       "      <td>0006641040</td>\n",
       "      <td>AMX0PJKV4PPNJ</td>\n",
       "      <td>E. R. Bird \"Ramseelbird\"</td>\n",
       "      <td>71</td>\n",
       "      <td>72</td>\n",
       "      <td>positive</td>\n",
       "      <td>1096416000</td>\n",
       "      <td>Read it once. Read it twice. Reading Chicken S...</td>\n",
       "      <td>These days, when a person says, \"chicken soup\"...</td>\n",
       "    </tr>\n",
       "    <tr>\n",
       "      <th>138682</th>\n",
       "      <td>150500</td>\n",
       "      <td>0006641040</td>\n",
       "      <td>A1IJKK6Q1GTEAY</td>\n",
       "      <td>A Customer</td>\n",
       "      <td>2</td>\n",
       "      <td>2</td>\n",
       "      <td>positive</td>\n",
       "      <td>1009324800</td>\n",
       "      <td>It Was a favorite!</td>\n",
       "      <td>This was a favorite book of mine when I was a ...</td>\n",
       "    </tr>\n",
       "    <tr>\n",
       "      <th>138681</th>\n",
       "      <td>150499</td>\n",
       "      <td>0006641040</td>\n",
       "      <td>A3E7R866M94L0C</td>\n",
       "      <td>L. Barker \"simienwolf\"</td>\n",
       "      <td>2</td>\n",
       "      <td>2</td>\n",
       "      <td>positive</td>\n",
       "      <td>1065830400</td>\n",
       "      <td>Can't explain why</td>\n",
       "      <td>This book has been a favorite of mine since I ...</td>\n",
       "    </tr>\n",
       "    <tr>\n",
       "      <th>476617</th>\n",
       "      <td>515426</td>\n",
       "      <td>141278509X</td>\n",
       "      <td>AB1A5EGHHVA9M</td>\n",
       "      <td>CHelmic</td>\n",
       "      <td>1</td>\n",
       "      <td>1</td>\n",
       "      <td>positive</td>\n",
       "      <td>1332547200</td>\n",
       "      <td>The best drink mix</td>\n",
       "      <td>This product by Archer Farms is the best drink...</td>\n",
       "    </tr>\n",
       "    <tr>\n",
       "      <th>22621</th>\n",
       "      <td>24751</td>\n",
       "      <td>2734888454</td>\n",
       "      <td>A1C298ITT645B6</td>\n",
       "      <td>Hugh G. Pritchard</td>\n",
       "      <td>0</td>\n",
       "      <td>0</td>\n",
       "      <td>positive</td>\n",
       "      <td>1195948800</td>\n",
       "      <td>Dog Lover Delites</td>\n",
       "      <td>Our dogs just love them.  I saw them in a pet ...</td>\n",
       "    </tr>\n",
       "    <tr>\n",
       "      <th>22620</th>\n",
       "      <td>24750</td>\n",
       "      <td>2734888454</td>\n",
       "      <td>A13ISQV0U9GZIC</td>\n",
       "      <td>Sandikaye</td>\n",
       "      <td>1</td>\n",
       "      <td>1</td>\n",
       "      <td>negative</td>\n",
       "      <td>1192060800</td>\n",
       "      <td>made in china</td>\n",
       "      <td>My dogs loves this chicken but its a product f...</td>\n",
       "    </tr>\n",
       "    <tr>\n",
       "      <th>284375</th>\n",
       "      <td>308077</td>\n",
       "      <td>2841233731</td>\n",
       "      <td>A3QD68O22M2XHQ</td>\n",
       "      <td>LABRNTH</td>\n",
       "      <td>0</td>\n",
       "      <td>0</td>\n",
       "      <td>positive</td>\n",
       "      <td>1345852800</td>\n",
       "      <td>Great recipe book for my babycook</td>\n",
       "      <td>This book is easy to read and the ingredients ...</td>\n",
       "    </tr>\n",
       "    <tr>\n",
       "      <th>157850</th>\n",
       "      <td>171161</td>\n",
       "      <td>7310172001</td>\n",
       "      <td>AFXMWPNS1BLU4</td>\n",
       "      <td>H. Sandler</td>\n",
       "      <td>0</td>\n",
       "      <td>0</td>\n",
       "      <td>positive</td>\n",
       "      <td>1229385600</td>\n",
       "      <td>Excellent treats</td>\n",
       "      <td>I have been feeding my greyhounds these treats...</td>\n",
       "    </tr>\n",
       "    <tr>\n",
       "      <th>157849</th>\n",
       "      <td>171160</td>\n",
       "      <td>7310172001</td>\n",
       "      <td>A74C7IARQEM1R</td>\n",
       "      <td>stucker</td>\n",
       "      <td>0</td>\n",
       "      <td>0</td>\n",
       "      <td>positive</td>\n",
       "      <td>1230076800</td>\n",
       "      <td>Sophie's Treats</td>\n",
       "      <td>This is one product that my welsh terrier can ...</td>\n",
       "    </tr>\n",
       "    <tr>\n",
       "      <th>157833</th>\n",
       "      <td>171144</td>\n",
       "      <td>7310172001</td>\n",
       "      <td>A1V5MY8V9AWUQB</td>\n",
       "      <td>Cheryl Sapper \"champagne girl\"</td>\n",
       "      <td>0</td>\n",
       "      <td>0</td>\n",
       "      <td>positive</td>\n",
       "      <td>1244764800</td>\n",
       "      <td>THE BEST healthy dog treat!</td>\n",
       "      <td>This is the ONLY dog treat that my Lhasa Apso ...</td>\n",
       "    </tr>\n",
       "    <tr>\n",
       "      <th>157832</th>\n",
       "      <td>171143</td>\n",
       "      <td>7310172001</td>\n",
       "      <td>A2SWO60IW01VPX</td>\n",
       "      <td>Sam</td>\n",
       "      <td>0</td>\n",
       "      <td>0</td>\n",
       "      <td>positive</td>\n",
       "      <td>1252022400</td>\n",
       "      <td>My Alaskan Malamute Loves Them!!</td>\n",
       "      <td>These liver treas are phenomenal. When i recei...</td>\n",
       "    </tr>\n",
       "    <tr>\n",
       "      <th>157837</th>\n",
       "      <td>171148</td>\n",
       "      <td>7310172001</td>\n",
       "      <td>A3TFTWTG2CC1GA</td>\n",
       "      <td>J. Umphress</td>\n",
       "      <td>0</td>\n",
       "      <td>0</td>\n",
       "      <td>positive</td>\n",
       "      <td>1240272000</td>\n",
       "      <td>Best treat ever!</td>\n",
       "      <td>This was the only treat my dog liked during ob...</td>\n",
       "    </tr>\n",
       "    <tr>\n",
       "      <th>157831</th>\n",
       "      <td>171142</td>\n",
       "      <td>7310172001</td>\n",
       "      <td>A2ZO1AYFVQYG44</td>\n",
       "      <td>Cindy Rellie \"Rellie\"</td>\n",
       "      <td>0</td>\n",
       "      <td>0</td>\n",
       "      <td>positive</td>\n",
       "      <td>1254960000</td>\n",
       "      <td>my 12 year old maltese has always loved these</td>\n",
       "      <td>No waste , even if she is having a  day when s...</td>\n",
       "    </tr>\n",
       "    <tr>\n",
       "      <th>157830</th>\n",
       "      <td>171141</td>\n",
       "      <td>7310172001</td>\n",
       "      <td>AZ40270J4JBZN</td>\n",
       "      <td>Zhinka Chunmee \"gamer from way back in the 70's\"</td>\n",
       "      <td>0</td>\n",
       "      <td>0</td>\n",
       "      <td>positive</td>\n",
       "      <td>1264291200</td>\n",
       "      <td>Dogs, Cats, Ferrets all love this</td>\n",
       "      <td>I wanted a treat that was accepted and well li...</td>\n",
       "    </tr>\n",
       "    <tr>\n",
       "      <th>157829</th>\n",
       "      <td>171140</td>\n",
       "      <td>7310172001</td>\n",
       "      <td>ADXXVGRCGQQUO</td>\n",
       "      <td>Richard Pearlstein</td>\n",
       "      <td>0</td>\n",
       "      <td>0</td>\n",
       "      <td>positive</td>\n",
       "      <td>1264377600</td>\n",
       "      <td>5 snouts!</td>\n",
       "      <td>My Westie loves these things!  She loves anyth...</td>\n",
       "    </tr>\n",
       "    <tr>\n",
       "      <th>157828</th>\n",
       "      <td>171139</td>\n",
       "      <td>7310172001</td>\n",
       "      <td>A13MS1JQG2ADOJ</td>\n",
       "      <td>C. Perrone</td>\n",
       "      <td>0</td>\n",
       "      <td>0</td>\n",
       "      <td>positive</td>\n",
       "      <td>1265760000</td>\n",
       "      <td>Best dog treat ever</td>\n",
       "      <td>This is the only dog treat that my terrier wil...</td>\n",
       "    </tr>\n",
       "    <tr>\n",
       "      <th>157827</th>\n",
       "      <td>171138</td>\n",
       "      <td>7310172001</td>\n",
       "      <td>A13LAE0YTXA11B</td>\n",
       "      <td>Dita Vyslouzilova \"dita\"</td>\n",
       "      <td>0</td>\n",
       "      <td>0</td>\n",
       "      <td>positive</td>\n",
       "      <td>1269216000</td>\n",
       "      <td>Great for puppy training</td>\n",
       "      <td>New puppy loves this, only treat he will pay a...</td>\n",
       "    </tr>\n",
       "    <tr>\n",
       "      <th>157848</th>\n",
       "      <td>171159</td>\n",
       "      <td>7310172001</td>\n",
       "      <td>A16GY2RCF410DT</td>\n",
       "      <td>LB</td>\n",
       "      <td>0</td>\n",
       "      <td>0</td>\n",
       "      <td>positive</td>\n",
       "      <td>1231718400</td>\n",
       "      <td>Great!</td>\n",
       "      <td>My dog loves these treats!  We started using t...</td>\n",
       "    </tr>\n",
       "    <tr>\n",
       "      <th>157834</th>\n",
       "      <td>171145</td>\n",
       "      <td>7310172001</td>\n",
       "      <td>A1L8DNQYY69L2Z</td>\n",
       "      <td>R. Flores</td>\n",
       "      <td>0</td>\n",
       "      <td>0</td>\n",
       "      <td>positive</td>\n",
       "      <td>1243728000</td>\n",
       "      <td>Terrific Treats</td>\n",
       "      <td>This is a great treat which all three of my do...</td>\n",
       "    </tr>\n",
       "  </tbody>\n",
       "</table>\n",
       "</div>"
      ],
      "text/plain": [
       "            Id   ProductId          UserId  \\\n",
       "138683  150501  0006641040   AJ46FKXOVC7NR   \n",
       "138676  150493  0006641040   AMX0PJKV4PPNJ   \n",
       "138682  150500  0006641040  A1IJKK6Q1GTEAY   \n",
       "138681  150499  0006641040  A3E7R866M94L0C   \n",
       "476617  515426  141278509X   AB1A5EGHHVA9M   \n",
       "22621    24751  2734888454  A1C298ITT645B6   \n",
       "22620    24750  2734888454  A13ISQV0U9GZIC   \n",
       "284375  308077  2841233731  A3QD68O22M2XHQ   \n",
       "157850  171161  7310172001   AFXMWPNS1BLU4   \n",
       "157849  171160  7310172001   A74C7IARQEM1R   \n",
       "157833  171144  7310172001  A1V5MY8V9AWUQB   \n",
       "157832  171143  7310172001  A2SWO60IW01VPX   \n",
       "157837  171148  7310172001  A3TFTWTG2CC1GA   \n",
       "157831  171142  7310172001  A2ZO1AYFVQYG44   \n",
       "157830  171141  7310172001   AZ40270J4JBZN   \n",
       "157829  171140  7310172001   ADXXVGRCGQQUO   \n",
       "157828  171139  7310172001  A13MS1JQG2ADOJ   \n",
       "157827  171138  7310172001  A13LAE0YTXA11B   \n",
       "157848  171159  7310172001  A16GY2RCF410DT   \n",
       "157834  171145  7310172001  A1L8DNQYY69L2Z   \n",
       "\n",
       "                                             ProfileName  \\\n",
       "138683                                Nicholas A Mesiano   \n",
       "138676                          E. R. Bird \"Ramseelbird\"   \n",
       "138682                                        A Customer   \n",
       "138681                            L. Barker \"simienwolf\"   \n",
       "476617                                           CHelmic   \n",
       "22621                                  Hugh G. Pritchard   \n",
       "22620                                          Sandikaye   \n",
       "284375                                           LABRNTH   \n",
       "157850                                        H. Sandler   \n",
       "157849                                           stucker   \n",
       "157833                    Cheryl Sapper \"champagne girl\"   \n",
       "157832                                               Sam   \n",
       "157837                                       J. Umphress   \n",
       "157831                             Cindy Rellie \"Rellie\"   \n",
       "157830  Zhinka Chunmee \"gamer from way back in the 70's\"   \n",
       "157829                                Richard Pearlstein   \n",
       "157828                                        C. Perrone   \n",
       "157827                          Dita Vyslouzilova \"dita\"   \n",
       "157848                                                LB   \n",
       "157834                                         R. Flores   \n",
       "\n",
       "        HelpfulnessNumerator  HelpfulnessDenominator     Score        Time  \\\n",
       "138683                     2                       2  positive   940809600   \n",
       "138676                    71                      72  positive  1096416000   \n",
       "138682                     2                       2  positive  1009324800   \n",
       "138681                     2                       2  positive  1065830400   \n",
       "476617                     1                       1  positive  1332547200   \n",
       "22621                      0                       0  positive  1195948800   \n",
       "22620                      1                       1  negative  1192060800   \n",
       "284375                     0                       0  positive  1345852800   \n",
       "157850                     0                       0  positive  1229385600   \n",
       "157849                     0                       0  positive  1230076800   \n",
       "157833                     0                       0  positive  1244764800   \n",
       "157832                     0                       0  positive  1252022400   \n",
       "157837                     0                       0  positive  1240272000   \n",
       "157831                     0                       0  positive  1254960000   \n",
       "157830                     0                       0  positive  1264291200   \n",
       "157829                     0                       0  positive  1264377600   \n",
       "157828                     0                       0  positive  1265760000   \n",
       "157827                     0                       0  positive  1269216000   \n",
       "157848                     0                       0  positive  1231718400   \n",
       "157834                     0                       0  positive  1243728000   \n",
       "\n",
       "                                                  Summary  \\\n",
       "138683  This whole series is great way to spend time w...   \n",
       "138676  Read it once. Read it twice. Reading Chicken S...   \n",
       "138682                                 It Was a favorite!   \n",
       "138681                                  Can't explain why   \n",
       "476617                                 The best drink mix   \n",
       "22621                                   Dog Lover Delites   \n",
       "22620                                       made in china   \n",
       "284375                  Great recipe book for my babycook   \n",
       "157850                                   Excellent treats   \n",
       "157849                                    Sophie's Treats   \n",
       "157833                        THE BEST healthy dog treat!   \n",
       "157832                   My Alaskan Malamute Loves Them!!   \n",
       "157837                                   Best treat ever!   \n",
       "157831      my 12 year old maltese has always loved these   \n",
       "157830                  Dogs, Cats, Ferrets all love this   \n",
       "157829                                          5 snouts!   \n",
       "157828                                Best dog treat ever   \n",
       "157827                           Great for puppy training   \n",
       "157848                                             Great!   \n",
       "157834                                    Terrific Treats   \n",
       "\n",
       "                                                     Text  \n",
       "138683  I can remember seeing the show when it aired o...  \n",
       "138676  These days, when a person says, \"chicken soup\"...  \n",
       "138682  This was a favorite book of mine when I was a ...  \n",
       "138681  This book has been a favorite of mine since I ...  \n",
       "476617  This product by Archer Farms is the best drink...  \n",
       "22621   Our dogs just love them.  I saw them in a pet ...  \n",
       "22620   My dogs loves this chicken but its a product f...  \n",
       "284375  This book is easy to read and the ingredients ...  \n",
       "157850  I have been feeding my greyhounds these treats...  \n",
       "157849  This is one product that my welsh terrier can ...  \n",
       "157833  This is the ONLY dog treat that my Lhasa Apso ...  \n",
       "157832  These liver treas are phenomenal. When i recei...  \n",
       "157837  This was the only treat my dog liked during ob...  \n",
       "157831  No waste , even if she is having a  day when s...  \n",
       "157830  I wanted a treat that was accepted and well li...  \n",
       "157829  My Westie loves these things!  She loves anyth...  \n",
       "157828  This is the only dog treat that my terrier wil...  \n",
       "157827  New puppy loves this, only treat he will pay a...  \n",
       "157848  My dog loves these treats!  We started using t...  \n",
       "157834  This is a great treat which all three of my do...  "
      ]
     },
     "execution_count": 5,
     "metadata": {},
     "output_type": "execute_result"
    }
   ],
   "source": [
    "# Removing rows where HelpfulnessNumerator is greater than HelpfulnessDenominator\n",
    "final = final[final.HelpfulnessNumerator <= final.HelpfulnessDenominator]\n",
    "\n",
    "print(final.shape)\n",
    "final[30:50]"
   ]
  },
  {
   "cell_type": "markdown",
   "metadata": {},
   "source": [
    "OBSERVATION :- Here books with ProductId - 0006641040 and 2841233731 are also there so we have to remove all these rows with these ProductIds from the data"
   ]
  },
  {
   "cell_type": "code",
   "execution_count": 6,
   "metadata": {},
   "outputs": [
    {
     "data": {
      "text/plain": [
       "(364136, 10)"
      ]
     },
     "execution_count": 6,
     "metadata": {},
     "output_type": "execute_result"
    }
   ],
   "source": [
    "final = final[final['ProductId'] != '2841233731']\n",
    "final = final[final['ProductId'] != '0006641040']\n",
    "final.shape"
   ]
  },
  {
   "cell_type": "markdown",
   "metadata": {},
   "source": [
    "# Text Preprocessing: Stemming, stop-word removal and Lemmatization."
   ]
  },
  {
   "cell_type": "code",
   "execution_count": 7,
   "metadata": {},
   "outputs": [],
   "source": [
    "#set of stopwords in English\n",
    "from nltk.corpus import stopwords\n",
    "stop = set(stopwords.words('english'))\n",
    "words_to_keep = set(('not'))\n",
    "stop -= words_to_keep\n",
    "#initialising the snowball stemmer\n",
    "sno = nltk.stem.SnowballStemmer('english')\n",
    "\n",
    " #function to clean the word of any html-tags\n",
    "def cleanhtml(sentence):\n",
    "    cleanr = re.compile('<.*?>')\n",
    "    cleantext = re.sub(cleanr, ' ', sentence)\n",
    "    return cleantext\n",
    "\n",
    "#function to clean the word of any punctuation or special characters\n",
    "def cleanpunc(sentence): \n",
    "    cleaned = re.sub(r'[?|!|\\'|\"|#]',r'',sentence)\n",
    "    cleaned = re.sub(r'[.|,|)|(|\\|/]',r' ',cleaned)\n",
    "    return  cleaned"
   ]
  },
  {
   "cell_type": "code",
   "execution_count": 8,
   "metadata": {},
   "outputs": [],
   "source": [
    "#Code for removing HTML tags , punctuations . Code for removing stopwords . Code for checking if word is not alphanumeric and\n",
    "# also greater than 2 . Code for stemmimg and also to convert them to lowercase letters \n",
    "i=0\n",
    "str1=' '\n",
    "final_string=[]\n",
    "all_positive_words=[] # store words from +ve reviews here\n",
    "all_negative_words=[] # store words from -ve reviews here.\n",
    "s=''\n",
    "for sent in final['Text'].values:\n",
    "    filtered_sentence=[]\n",
    "    #print(sent);\n",
    "    sent=cleanhtml(sent) # remove HTMl tags\n",
    "    for w in sent.split():\n",
    "        for cleaned_words in cleanpunc(w).split():\n",
    "            if((cleaned_words.isalpha()) & (len(cleaned_words)>2)):    \n",
    "                if(cleaned_words.lower() not in stop):\n",
    "                    s=(sno.stem(cleaned_words.lower())).encode('utf8')\n",
    "                    filtered_sentence.append(s)\n",
    "                    if (final['Score'].values)[i] == 'positive': \n",
    "                        all_positive_words.append(s) #list of all words used to describe positive reviews\n",
    "                    if(final['Score'].values)[i] == 'negative':\n",
    "                        all_negative_words.append(s) #list of all words used to describe negative reviews reviews\n",
    "                else:\n",
    "                    continue\n",
    "            else:\n",
    "                continue \n",
    "    \n",
    "    str1 = b\" \".join(filtered_sentence) #final string of cleaned words\n",
    "    \n",
    "    \n",
    "    final_string.append(str1)\n",
    "    i+=1"
   ]
  },
  {
   "cell_type": "code",
   "execution_count": 9,
   "metadata": {},
   "outputs": [
    {
     "name": "stdout",
     "output_type": "stream",
     "text": [
      "Shape of final (364136, 11)\n"
     ]
    },
    {
     "data": {
      "text/html": [
       "<div>\n",
       "<style scoped>\n",
       "    .dataframe tbody tr th:only-of-type {\n",
       "        vertical-align: middle;\n",
       "    }\n",
       "\n",
       "    .dataframe tbody tr th {\n",
       "        vertical-align: top;\n",
       "    }\n",
       "\n",
       "    .dataframe thead th {\n",
       "        text-align: right;\n",
       "    }\n",
       "</style>\n",
       "<table border=\"1\" class=\"dataframe\">\n",
       "  <thead>\n",
       "    <tr style=\"text-align: right;\">\n",
       "      <th></th>\n",
       "      <th>Id</th>\n",
       "      <th>ProductId</th>\n",
       "      <th>UserId</th>\n",
       "      <th>ProfileName</th>\n",
       "      <th>HelpfulnessNumerator</th>\n",
       "      <th>HelpfulnessDenominator</th>\n",
       "      <th>Score</th>\n",
       "      <th>Time</th>\n",
       "      <th>Summary</th>\n",
       "      <th>Text</th>\n",
       "      <th>CleanedText</th>\n",
       "    </tr>\n",
       "  </thead>\n",
       "  <tbody>\n",
       "    <tr>\n",
       "      <th>476617</th>\n",
       "      <td>515426</td>\n",
       "      <td>141278509X</td>\n",
       "      <td>AB1A5EGHHVA9M</td>\n",
       "      <td>CHelmic</td>\n",
       "      <td>1</td>\n",
       "      <td>1</td>\n",
       "      <td>positive</td>\n",
       "      <td>1332547200</td>\n",
       "      <td>The best drink mix</td>\n",
       "      <td>This product by Archer Farms is the best drink...</td>\n",
       "      <td>product archer farm best drink mix ever mix fl...</td>\n",
       "    </tr>\n",
       "    <tr>\n",
       "      <th>22621</th>\n",
       "      <td>24751</td>\n",
       "      <td>2734888454</td>\n",
       "      <td>A1C298ITT645B6</td>\n",
       "      <td>Hugh G. Pritchard</td>\n",
       "      <td>0</td>\n",
       "      <td>0</td>\n",
       "      <td>positive</td>\n",
       "      <td>1195948800</td>\n",
       "      <td>Dog Lover Delites</td>\n",
       "      <td>Our dogs just love them.  I saw them in a pet ...</td>\n",
       "      <td>dog love saw pet store tag attach regard made ...</td>\n",
       "    </tr>\n",
       "    <tr>\n",
       "      <th>22620</th>\n",
       "      <td>24750</td>\n",
       "      <td>2734888454</td>\n",
       "      <td>A13ISQV0U9GZIC</td>\n",
       "      <td>Sandikaye</td>\n",
       "      <td>1</td>\n",
       "      <td>1</td>\n",
       "      <td>negative</td>\n",
       "      <td>1192060800</td>\n",
       "      <td>made in china</td>\n",
       "      <td>My dogs loves this chicken but its a product f...</td>\n",
       "      <td>dog love chicken product china wont buy anymor...</td>\n",
       "    </tr>\n",
       "    <tr>\n",
       "      <th>157850</th>\n",
       "      <td>171161</td>\n",
       "      <td>7310172001</td>\n",
       "      <td>AFXMWPNS1BLU4</td>\n",
       "      <td>H. Sandler</td>\n",
       "      <td>0</td>\n",
       "      <td>0</td>\n",
       "      <td>positive</td>\n",
       "      <td>1229385600</td>\n",
       "      <td>Excellent treats</td>\n",
       "      <td>I have been feeding my greyhounds these treats...</td>\n",
       "      <td>feed greyhound treat year hound littl finicki ...</td>\n",
       "    </tr>\n",
       "    <tr>\n",
       "      <th>157849</th>\n",
       "      <td>171160</td>\n",
       "      <td>7310172001</td>\n",
       "      <td>A74C7IARQEM1R</td>\n",
       "      <td>stucker</td>\n",
       "      <td>0</td>\n",
       "      <td>0</td>\n",
       "      <td>positive</td>\n",
       "      <td>1230076800</td>\n",
       "      <td>Sophie's Treats</td>\n",
       "      <td>This is one product that my welsh terrier can ...</td>\n",
       "      <td>one product welsh terrier eat sophi food alerg...</td>\n",
       "    </tr>\n",
       "  </tbody>\n",
       "</table>\n",
       "</div>"
      ],
      "text/plain": [
       "            Id   ProductId          UserId        ProfileName  \\\n",
       "476617  515426  141278509X   AB1A5EGHHVA9M            CHelmic   \n",
       "22621    24751  2734888454  A1C298ITT645B6  Hugh G. Pritchard   \n",
       "22620    24750  2734888454  A13ISQV0U9GZIC          Sandikaye   \n",
       "157850  171161  7310172001   AFXMWPNS1BLU4         H. Sandler   \n",
       "157849  171160  7310172001   A74C7IARQEM1R            stucker   \n",
       "\n",
       "        HelpfulnessNumerator  HelpfulnessDenominator     Score        Time  \\\n",
       "476617                     1                       1  positive  1332547200   \n",
       "22621                      0                       0  positive  1195948800   \n",
       "22620                      1                       1  negative  1192060800   \n",
       "157850                     0                       0  positive  1229385600   \n",
       "157849                     0                       0  positive  1230076800   \n",
       "\n",
       "                   Summary                                               Text  \\\n",
       "476617  The best drink mix  This product by Archer Farms is the best drink...   \n",
       "22621    Dog Lover Delites  Our dogs just love them.  I saw them in a pet ...   \n",
       "22620        made in china  My dogs loves this chicken but its a product f...   \n",
       "157850    Excellent treats  I have been feeding my greyhounds these treats...   \n",
       "157849     Sophie's Treats  This is one product that my welsh terrier can ...   \n",
       "\n",
       "                                              CleanedText  \n",
       "476617  product archer farm best drink mix ever mix fl...  \n",
       "22621   dog love saw pet store tag attach regard made ...  \n",
       "22620   dog love chicken product china wont buy anymor...  \n",
       "157850  feed greyhound treat year hound littl finicki ...  \n",
       "157849  one product welsh terrier eat sophi food alerg...  "
      ]
     },
     "execution_count": 9,
     "metadata": {},
     "output_type": "execute_result"
    }
   ],
   "source": [
    "#adding a column of CleanedText which displays the data after pre-processing of the review\n",
    "final['CleanedText']=final_string  \n",
    "final['CleanedText']=final['CleanedText'].str.decode(\"utf-8\")\n",
    "#below the processed review can be seen in the CleanedText Column \n",
    "print('Shape of final',final.shape)\n",
    "final.head()"
   ]
  },
  {
   "cell_type": "markdown",
   "metadata": {},
   "source": [
    "TIME BASED SPLITTING OF SAMPLE DATASET"
   ]
  },
  {
   "cell_type": "code",
   "execution_count": 10,
   "metadata": {},
   "outputs": [],
   "source": [
    "from sklearn.model_selection import train_test_split\n",
    "##Sorting data according to Time in ascending order for Time Based Splitting\n",
    "time_sorted_data = final.sort_values('Time', axis=0, ascending=True, inplace=False, kind='quicksort', na_position='last')\n",
    "\n",
    "x = time_sorted_data['CleanedText'].values\n",
    "y = time_sorted_data['Score']\n",
    "\n",
    "# split the data set into train and test\n",
    "X_train, X_test, Y_train, Y_test = train_test_split(x, y, test_size=0.3, random_state=0)"
   ]
  },
  {
   "cell_type": "markdown",
   "metadata": {},
   "source": [
    "# (1). Bag of Words (BoW)"
   ]
  },
  {
   "cell_type": "code",
   "execution_count": 11,
   "metadata": {},
   "outputs": [
    {
     "name": "stdout",
     "output_type": "stream",
     "text": [
      "the type of count vectorizer : <class 'scipy.sparse.csr.csr_matrix'>\n",
      "the shape of out text BOW vectorizer :  (254895, 4398)\n",
      "the number of unique words : 4398\n"
     ]
    }
   ],
   "source": [
    "#BoW\n",
    "count_vect = CountVectorizer(min_df = 100) \n",
    "X_train_vec = count_vect.fit_transform(X_train)\n",
    "X_test_vec = count_vect.transform(X_test)\n",
    "print(\"the type of count vectorizer :\",type(X_train_vec))\n",
    "print(\"the shape of out text BOW vectorizer : \",X_train_vec.get_shape())\n",
    "print(\"the number of unique words :\", X_train_vec.get_shape()[1])"
   ]
  },
  {
   "cell_type": "code",
   "execution_count": 12,
   "metadata": {},
   "outputs": [],
   "source": [
    "import warnings\n",
    "warnings.filterwarnings('ignore')\n",
    "# Data-preprocessing: Standardizing the data\n",
    "\n",
    "from sklearn.preprocessing import StandardScaler\n",
    "sc = StandardScaler(with_mean=False)\n",
    "X_train_vec_standardized = sc.fit_transform(X_train_vec)\n",
    "X_test_vec_standardized = sc.transform(X_test_vec)"
   ]
  },
  {
   "cell_type": "markdown",
   "metadata": {},
   "source": [
    "# GridSearchCV Implementation (SGDClassifier with hinge-loss)"
   ]
  },
  {
   "cell_type": "code",
   "execution_count": 13,
   "metadata": {},
   "outputs": [
    {
     "name": "stdout",
     "output_type": "stream",
     "text": [
      "Model with best parameters :\n",
      " SGDClassifier(alpha=0.1, average=False, class_weight=None, epsilon=0.1,\n",
      "       eta0=0.0, fit_intercept=True, l1_ratio=0.15,\n",
      "       learning_rate='optimal', loss='hinge', max_iter=None, n_iter=None,\n",
      "       n_jobs=1, penalty='l2', power_t=0.5, random_state=None,\n",
      "       shuffle=True, tol=None, verbose=0, warm_start=False)\n",
      "Accuracy of the model :  0.9220073049496068\n",
      "The optimal value of alpha(1/C) is :  0.1\n"
     ]
    }
   ],
   "source": [
    "# Importing libraries\n",
    "from sklearn.linear_model import SGDClassifier\n",
    "from sklearn.model_selection import GridSearchCV\n",
    "from sklearn.model_selection import RandomizedSearchCV\n",
    "from sklearn.metrics import accuracy_score,confusion_matrix,f1_score,precision_score,recall_score\n",
    "\n",
    "Alpha = [0.001, 0.01, 0.1, 1, 10]\n",
    "\n",
    "param_grid = {'alpha': Alpha}\n",
    "model = GridSearchCV(SGDClassifier(), param_grid, scoring = 'accuracy', cv=3 , n_jobs = -1,pre_dispatch=2)\n",
    "model.fit(X_train_vec_standardized, Y_train)\n",
    "print(\"Model with best parameters :\\n\",model.best_estimator_)\n",
    "print(\"Accuracy of the model : \",model.score(X_test_vec_standardized, Y_test))\n",
    "\n",
    "optimal_alpha = model.best_estimator_.alpha\n",
    "print(\"The optimal value of alpha(1/C) is : \",optimal_alpha)\n",
    "\n",
    "# SGDClassifier with Optimal value of alpha i.e.(1/C)\n",
    "sgd = SGDClassifier(alpha=optimal_alpha, n_jobs=-1)\n",
    "sgd.fit(X_train_vec_standardized,Y_train)\n",
    "predictions = sgd.predict(X_test_vec_standardized)\n",
    "\n",
    "# Variables that will be used for  making table in Conclusion part of this assignment\n",
    "bow_grid_alpha = optimal_alpha\n",
    "bow_grid_train_acc = model.score(X_test_vec_standardized, Y_test)*100\n",
    "bow_grid_test_acc = accuracy_score(Y_test, predictions) * 100"
   ]
  },
  {
   "cell_type": "code",
   "execution_count": 14,
   "metadata": {},
   "outputs": [
    {
     "name": "stdout",
     "output_type": "stream",
     "text": [
      "\n",
      "The Test Accuracy of the SGDClassifier for alpha = 0.100 is 92.206223%\n",
      "\n",
      "The Test Precision of the SGDClassifier for alpha = 0.100 is 0.932842\n",
      "\n",
      "The Test Recall of the SGDClassifier for alpha = 0.100 is 0.978055\n",
      "\n",
      "The Test F1-Score of the SGDClassifier for alpha = 0.100 is 0.954914\n"
     ]
    }
   ],
   "source": [
    "# evaluate accuracy\n",
    "acc = accuracy_score(Y_test, predictions) * 100\n",
    "print('\\nThe Test Accuracy of the SGDClassifier for alpha = %.3f is %f%%' % (optimal_alpha, acc))\n",
    "\n",
    "# evaluate precision\n",
    "acc = precision_score(Y_test, predictions, pos_label = 'positive') \n",
    "print('\\nThe Test Precision of the SGDClassifier for alpha = %.3f is %f' % (optimal_alpha, acc))\n",
    "\n",
    "# evaluate recall\n",
    "acc = recall_score(Y_test, predictions, pos_label = 'positive')\n",
    "print('\\nThe Test Recall of the SGDClassifier for alpha = %.3f is %f' % (optimal_alpha, acc))\n",
    "\n",
    "# evaluate f1-score\n",
    "acc = f1_score(Y_test, predictions, pos_label = 'positive')\n",
    "print('\\nThe Test F1-Score of the SGDClassifier for alpha = %.3f is %f' % (optimal_alpha, acc))"
   ]
  },
  {
   "cell_type": "markdown",
   "metadata": {},
   "source": [
    "SEABORN HEATMAP FOR REPRESENTATION OF CONFUSION MATRIX :"
   ]
  },
  {
   "cell_type": "code",
   "execution_count": 15,
   "metadata": {},
   "outputs": [
    {
     "data": {
      "image/png": "[encoded data removed]",
      "text/plain": [
       "<Figure size 720x504 with 2 Axes>"
      ]
     },
     "metadata": {},
     "output_type": "display_data"
    }
   ],
   "source": [
    "# Code for drawing seaborn heatmaps\n",
    "class_names = ['negative','positive']\n",
    "df_heatmap = pd.DataFrame(confusion_matrix(Y_test, predictions), index=class_names, columns=class_names )\n",
    "fig = plt.figure(figsize=(10,7))\n",
    "heatmap = sns.heatmap(df_heatmap, annot=True, fmt=\"d\")\n",
    "\n",
    "# Setting tick labels for heatmap\n",
    "heatmap.yaxis.set_ticklabels(heatmap.yaxis.get_ticklabels(), rotation=0, ha='right', fontsize=14)\n",
    "heatmap.xaxis.set_ticklabels(heatmap.xaxis.get_ticklabels(), rotation=0, ha='right', fontsize=14)\n",
    "plt.ylabel('Predicted label',size=18)\n",
    "plt.xlabel('True label',size=18)\n",
    "plt.title(\"Confusion Matrix\\n\",size=24)\n",
    "plt.show()"
   ]
  },
  {
   "cell_type": "markdown",
   "metadata": {},
   "source": [
    "# RandomizedSearchCV Implementation (SGDClassifier with hinge-loss)"
   ]
  },
  {
   "cell_type": "code",
   "execution_count": 16,
   "metadata": {},
   "outputs": [
    {
     "name": "stdout",
     "output_type": "stream",
     "text": [
      "Model with best parameters :\n",
      " SGDClassifier(alpha=0.05856537013282603, average=False, class_weight=None,\n",
      "       epsilon=0.1, eta0=0.0, fit_intercept=True, l1_ratio=0.15,\n",
      "       learning_rate='optimal', loss='hinge', max_iter=None, n_iter=None,\n",
      "       n_jobs=1, penalty='l2', power_t=0.5, random_state=None,\n",
      "       shuffle=True, tol=None, verbose=0, warm_start=False)\n",
      "Accuracy of the model :  0.9223185434040333\n",
      "The optimal value of alpha(1/C) is :  0.05856537013282603\n"
     ]
    }
   ],
   "source": [
    "# Load libraries\n",
    "from scipy.stats import uniform\n",
    "\n",
    "# Create regularization hyperparameter distribution using uniform distribution\n",
    "Alpha = uniform(loc=0, scale=1)\n",
    "\n",
    "# Create hyperparameter options\n",
    "hyperparameters = dict(alpha=Alpha)\n",
    "\n",
    "#Using RandomizedSearchCV\n",
    "model = RandomizedSearchCV(SGDClassifier(), hyperparameters, scoring = 'accuracy', cv=3 , n_jobs = -1,pre_dispatch=2)\n",
    "model.fit(X_train_vec_standardized, Y_train)\n",
    "print(\"Model with best parameters :\\n\",model.best_estimator_)\n",
    "print(\"Accuracy of the model : \",model.score(X_test_vec_standardized, Y_test))\n",
    "\n",
    "optimal_alpha = model.best_estimator_.alpha\n",
    "print(\"The optimal value of alpha(1/C) is : \",optimal_alpha)\n",
    "\n",
    "# SGDClassifier with Optimal value of alpha i.e.(1/C)\n",
    "sgd = SGDClassifier(alpha=optimal_alpha, n_jobs=-1)\n",
    "sgd.fit(X_train_vec_standardized,Y_train)\n",
    "predictions = sgd.predict(X_test_vec_standardized)\n",
    "\n",
    "# Variables that will be used for  making table in Conclusion part of this assignment\n",
    "bow_random_alpha = optimal_alpha\n",
    "bow_random_train_acc = model.score(X_test_vec_standardized, Y_test)*100\n",
    "bow_random_test_acc = accuracy_score(Y_test, predictions) * 100"
   ]
  },
  {
   "cell_type": "code",
   "execution_count": 17,
   "metadata": {},
   "outputs": [
    {
     "name": "stdout",
     "output_type": "stream",
     "text": [
      "\n",
      "The Test Accuracy of the SGDClassifier for alpha = 0.059 is 92.253824%\n",
      "\n",
      "The Test Precision of the SGDClassifier for alpha = 0.059 is 0.934739\n",
      "\n",
      "The Test Recall of the SGDClassifier for alpha = 0.059 is 0.976374\n",
      "\n",
      "The Test F1-Score of the SGDClassifier for alpha = 0.059 is 0.955103\n"
     ]
    }
   ],
   "source": [
    "# evaluate accuracy\n",
    "acc = accuracy_score(Y_test, predictions) * 100\n",
    "print('\\nThe Test Accuracy of the SGDClassifier for alpha = %.3f is %f%%' % (optimal_alpha, acc))\n",
    "\n",
    "# evaluate precision\n",
    "acc = precision_score(Y_test, predictions, pos_label = 'positive') \n",
    "print('\\nThe Test Precision of the SGDClassifier for alpha = %.3f is %f' % (optimal_alpha, acc))\n",
    "\n",
    "# evaluate recall\n",
    "acc = recall_score(Y_test, predictions, pos_label = 'positive')\n",
    "print('\\nThe Test Recall of the SGDClassifier for alpha = %.3f is %f' % (optimal_alpha, acc))\n",
    "\n",
    "# evaluate f1-score\n",
    "acc = f1_score(Y_test, predictions, pos_label = 'positive')\n",
    "print('\\nThe Test F1-Score of the SGDClassifier for alpha = %.3f is %f' % (optimal_alpha, acc))"
   ]
  },
  {
   "cell_type": "markdown",
   "metadata": {},
   "source": [
    "SEABORN HEATMAP FOR REPRESENTATION OF CONFUSION MATRIX :"
   ]
  },
  {
   "cell_type": "code",
   "execution_count": 18,
   "metadata": {},
   "outputs": [
    {
     "data": {
      "image/png": "[encoded data removed]",
      "text/plain": [
       "<Figure size 720x504 with 2 Axes>"
      ]
     },
     "metadata": {},
     "output_type": "display_data"
    }
   ],
   "source": [
    "# Code for drawing seaborn heatmaps\n",
    "class_names = ['negative','positive']\n",
    "df_heatmap = pd.DataFrame(confusion_matrix(Y_test, predictions), index=class_names, columns=class_names )\n",
    "fig = plt.figure(figsize=(10,7))\n",
    "heatmap = sns.heatmap(df_heatmap, annot=True, fmt=\"d\")\n",
    "\n",
    "# Setting tick labels for heatmap\n",
    "heatmap.yaxis.set_ticklabels(heatmap.yaxis.get_ticklabels(), rotation=0, ha='right', fontsize=14)\n",
    "heatmap.xaxis.set_ticklabels(heatmap.xaxis.get_ticklabels(), rotation=0, ha='right', fontsize=14)\n",
    "plt.ylabel('Predicted label',size=18)\n",
    "plt.xlabel('True label',size=18)\n",
    "plt.title(\"Confusion Matrix\\n\",size=24)\n",
    "plt.show()"
   ]
  },
  {
   "cell_type": "markdown",
   "metadata": {},
   "source": [
    "# (2) TFIDF"
   ]
  },
  {
   "cell_type": "code",
   "execution_count": 19,
   "metadata": {},
   "outputs": [
    {
     "name": "stdout",
     "output_type": "stream",
     "text": [
      "the type of count vectorizer : <class 'scipy.sparse.csr.csr_matrix'>\n",
      "the shape of out text TFIDF vectorizer :  (254895, 4398)\n",
      "the number of unique words : 4398\n"
     ]
    }
   ],
   "source": [
    "tf_idf_vect = TfidfVectorizer(min_df=100)\n",
    "X_train_vec = tf_idf_vect.fit_transform(X_train)\n",
    "X_test_vec = tf_idf_vect.transform(X_test)\n",
    "print(\"the type of count vectorizer :\",type(X_train_vec))\n",
    "print(\"the shape of out text TFIDF vectorizer : \",X_train_vec.get_shape())\n",
    "print(\"the number of unique words :\", X_train_vec.get_shape()[1])\n",
    "\n",
    "# Data-preprocessing: Standardizing the data\n",
    "sc = StandardScaler(with_mean=False)\n",
    "X_train_vec_standardized = sc.fit_transform(X_train_vec)\n",
    "X_test_vec_standardized = sc.transform(X_test_vec)"
   ]
  },
  {
   "cell_type": "markdown",
   "metadata": {},
   "source": [
    "# GridSearchCV Implementation (SGDClassifier with hinge-loss)"
   ]
  },
  {
   "cell_type": "code",
   "execution_count": 20,
   "metadata": {},
   "outputs": [
    {
     "name": "stdout",
     "output_type": "stream",
     "text": [
      "Model with best parameters :\n",
      " SGDClassifier(alpha=0.1, average=False, class_weight=None, epsilon=0.1,\n",
      "       eta0=0.0, fit_intercept=True, l1_ratio=0.15,\n",
      "       learning_rate='optimal', loss='hinge', max_iter=None, n_iter=None,\n",
      "       n_jobs=1, penalty='l2', power_t=0.5, random_state=None,\n",
      "       shuffle=True, tol=None, verbose=0, warm_start=False)\n",
      "Accuracy of the model :  0.918684376744995\n",
      "The optimal value of alpha(1/C) is :  0.1\n"
     ]
    }
   ],
   "source": [
    "Alpha = [0.001, 0.01, 0.1, 1, 10]\n",
    "\n",
    "param_grid = {'alpha': Alpha}\n",
    "model = GridSearchCV(SGDClassifier(), param_grid, scoring = 'accuracy', cv=3 , n_jobs = -1,pre_dispatch=2)\n",
    "model.fit(X_train_vec_standardized, Y_train)\n",
    "print(\"Model with best parameters :\\n\",model.best_estimator_)\n",
    "print(\"Accuracy of the model : \",model.score(X_test_vec_standardized, Y_test))\n",
    "\n",
    "optimal_alpha = model.best_estimator_.alpha\n",
    "print(\"The optimal value of alpha(1/C) is : \",optimal_alpha)\n",
    "\n",
    "# SGDClassifier with Optimal value of alpha i.e.(1/C)\n",
    "sgd = SGDClassifier(alpha=optimal_alpha, n_jobs=-1)\n",
    "sgd.fit(X_train_vec_standardized,Y_train)\n",
    "predictions = sgd.predict(X_test_vec_standardized)\n",
    "\n",
    "# Variables that will be used for  making table in Conclusion part of this assignment\n",
    "tfidf_grid_alpha = optimal_alpha\n",
    "tfidf_grid_train_acc = model.score(X_test_vec_standardized, Y_test)*100\n",
    "tfidf_grid_test_acc = accuracy_score(Y_test, predictions) * 100"
   ]
  },
  {
   "cell_type": "code",
   "execution_count": 21,
   "metadata": {},
   "outputs": [
    {
     "name": "stdout",
     "output_type": "stream",
     "text": [
      "\n",
      "The Test Accuracy of the SGDClassifier for alpha = 0.100 is 91.793374%\n",
      "\n",
      "The Test Precision of the SGDClassifier for alpha = 0.100 is 0.926297\n",
      "\n",
      "The Test Recall of the SGDClassifier for alpha = 0.100 is 0.980789\n",
      "\n",
      "The Test F1-Score of the SGDClassifier for alpha = 0.100 is 0.952764\n"
     ]
    }
   ],
   "source": [
    "# evaluate accuracy\n",
    "acc = accuracy_score(Y_test, predictions) * 100\n",
    "print('\\nThe Test Accuracy of the SGDClassifier for alpha = %.3f is %f%%' % (optimal_alpha, acc))\n",
    "\n",
    "# evaluate precision\n",
    "acc = precision_score(Y_test, predictions, pos_label = 'positive') \n",
    "print('\\nThe Test Precision of the SGDClassifier for alpha = %.3f is %f' % (optimal_alpha, acc))\n",
    "\n",
    "# evaluate recall\n",
    "acc = recall_score(Y_test, predictions, pos_label = 'positive')\n",
    "print('\\nThe Test Recall of the SGDClassifier for alpha = %.3f is %f' % (optimal_alpha, acc))\n",
    "\n",
    "# evaluate f1-score\n",
    "acc = f1_score(Y_test, predictions, pos_label = 'positive')\n",
    "print('\\nThe Test F1-Score of the SGDClassifier for alpha = %.3f is %f' % (optimal_alpha, acc))"
   ]
  },
  {
   "cell_type": "markdown",
   "metadata": {},
   "source": [
    "SEABORN HEATMAP FOR REPRESENTATION OF CONFUSION MATRIX :"
   ]
  },
  {
   "cell_type": "code",
   "execution_count": 22,
   "metadata": {},
   "outputs": [
    {
     "data": {
      "image/png": "[encoded data removed]",
      "text/plain": [
       "<Figure size 720x504 with 2 Axes>"
      ]
     },
     "metadata": {},
     "output_type": "display_data"
    }
   ],
   "source": [
    "# Code for drawing seaborn heatmaps\n",
    "class_names = ['negative','positive']\n",
    "df_heatmap = pd.DataFrame(confusion_matrix(Y_test, predictions), index=class_names, columns=class_names )\n",
    "fig = plt.figure(figsize=(10,7))\n",
    "heatmap = sns.heatmap(df_heatmap, annot=True, fmt=\"d\")\n",
    "\n",
    "# Setting tick labels for heatmap\n",
    "heatmap.yaxis.set_ticklabels(heatmap.yaxis.get_ticklabels(), rotation=0, ha='right', fontsize=14)\n",
    "heatmap.xaxis.set_ticklabels(heatmap.xaxis.get_ticklabels(), rotation=0, ha='right', fontsize=14)\n",
    "plt.ylabel('Predicted label',size=18)\n",
    "plt.xlabel('True label',size=18)\n",
    "plt.title(\"Confusion Matrix\\n\",size=24)\n",
    "plt.show()"
   ]
  },
  {
   "cell_type": "markdown",
   "metadata": {},
   "source": [
    "# RandomizedSearchCV Implementation (SGDClassifier with hinge-loss)"
   ]
  },
  {
   "cell_type": "code",
   "execution_count": 23,
   "metadata": {},
   "outputs": [
    {
     "name": "stdout",
     "output_type": "stream",
     "text": [
      "Model with best parameters :\n",
      " SGDClassifier(alpha=0.10939671536861173, average=False, class_weight=None,\n",
      "       epsilon=0.1, eta0=0.0, fit_intercept=True, l1_ratio=0.15,\n",
      "       learning_rate='optimal', loss='hinge', max_iter=None, n_iter=None,\n",
      "       n_jobs=1, penalty='l2', power_t=0.5, random_state=None,\n",
      "       shuffle=True, tol=None, verbose=0, warm_start=False)\n",
      "Accuracy of the model :  0.9175401177213683\n",
      "The optimal value of alpha(1/C) is :  0.10939671536861173\n"
     ]
    }
   ],
   "source": [
    "# Create regularization hyperparameter distribution using uniform distribution\n",
    "Alpha = uniform(loc=0, scale=1)\n",
    "\n",
    "# Create hyperparameter options\n",
    "hyperparameters = dict(alpha=Alpha)\n",
    "\n",
    "#Using RandomizedSearchCV\n",
    "model = RandomizedSearchCV(SGDClassifier(), hyperparameters, scoring = 'accuracy', cv=3 , n_jobs = -1,pre_dispatch=2)\n",
    "model.fit(X_train_vec_standardized, Y_train)\n",
    "print(\"Model with best parameters :\\n\",model.best_estimator_)\n",
    "print(\"Accuracy of the model : \",model.score(X_test_vec_standardized, Y_test))\n",
    "\n",
    "optimal_alpha = model.best_estimator_.alpha\n",
    "print(\"The optimal value of alpha(1/C) is : \",optimal_alpha)\n",
    "\n",
    "# SGDClassifier with Optimal value of alpha i.e.(1/C)\n",
    "sgd = SGDClassifier(alpha=optimal_alpha, n_jobs=-1)\n",
    "sgd.fit(X_train_vec_standardized,Y_train)\n",
    "predictions = sgd.predict(X_test_vec_standardized)\n",
    "\n",
    "# Variables that will be used for  making table in Conclusion part of this assignment\n",
    "tfidf_random_alpha = optimal_alpha\n",
    "tfidf_random_train_acc = model.score(X_test_vec_standardized, Y_test)*100\n",
    "tfidf_random_test_acc = accuracy_score(Y_test, predictions) * 100"
   ]
  },
  {
   "cell_type": "code",
   "execution_count": 24,
   "metadata": {},
   "outputs": [
    {
     "name": "stdout",
     "output_type": "stream",
     "text": [
      "\n",
      "The Test Accuracy of the SGDClassifier for alpha = 0.109 is 91.782389%\n",
      "\n",
      "The Test Precision of the SGDClassifier for alpha = 0.109 is 0.926375\n",
      "\n",
      "The Test Recall of the SGDClassifier for alpha = 0.109 is 0.980550\n",
      "\n",
      "The Test F1-Score of the SGDClassifier for alpha = 0.109 is 0.952693\n"
     ]
    }
   ],
   "source": [
    "# evaluate accuracy\n",
    "acc = accuracy_score(Y_test, predictions) * 100\n",
    "print('\\nThe Test Accuracy of the SGDClassifier for alpha = %.3f is %f%%' % (optimal_alpha, acc))\n",
    "\n",
    "# evaluate precision\n",
    "acc = precision_score(Y_test, predictions, pos_label = 'positive') \n",
    "print('\\nThe Test Precision of the SGDClassifier for alpha = %.3f is %f' % (optimal_alpha, acc))\n",
    "\n",
    "# evaluate recall\n",
    "acc = recall_score(Y_test, predictions, pos_label = 'positive')\n",
    "print('\\nThe Test Recall of the SGDClassifier for alpha = %.3f is %f' % (optimal_alpha, acc))\n",
    "\n",
    "# evaluate f1-score\n",
    "acc = f1_score(Y_test, predictions, pos_label = 'positive')\n",
    "print('\\nThe Test F1-Score of the SGDClassifier for alpha = %.3f is %f' % (optimal_alpha, acc))"
   ]
  },
  {
   "cell_type": "markdown",
   "metadata": {},
   "source": [
    "SEABORN HEATMAP FOR REPRESENTATION OF CONFUSION MATRIX :"
   ]
  },
  {
   "cell_type": "code",
   "execution_count": 25,
   "metadata": {},
   "outputs": [
    {
     "data": {
      "image/png": "[encoded data removed]",
      "text/plain": [
       "<Figure size 720x504 with 2 Axes>"
      ]
     },
     "metadata": {},
     "output_type": "display_data"
    }
   ],
   "source": [
    "# Code for drawing seaborn heatmaps\n",
    "class_names = ['negative','positive']\n",
    "df_heatmap = pd.DataFrame(confusion_matrix(Y_test, predictions), index=class_names, columns=class_names )\n",
    "fig = plt.figure(figsize=(10,7))\n",
    "heatmap = sns.heatmap(df_heatmap, annot=True, fmt=\"d\")\n",
    "\n",
    "# Setting tick labels for heatmap\n",
    "heatmap.yaxis.set_ticklabels(heatmap.yaxis.get_ticklabels(), rotation=0, ha='right', fontsize=14)\n",
    "heatmap.xaxis.set_ticklabels(heatmap.xaxis.get_ticklabels(), rotation=0, ha='right', fontsize=14)\n",
    "plt.ylabel('Predicted label',size=18)\n",
    "plt.xlabel('True label',size=18)\n",
    "plt.title(\"Confusion Matrix\\n\",size=24)\n",
    "plt.show()"
   ]
  },
  {
   "cell_type": "markdown",
   "metadata": {},
   "source": [
    "# Word2Vec"
   ]
  },
  {
   "cell_type": "code",
   "execution_count": 26,
   "metadata": {},
   "outputs": [
    {
     "name": "stdout",
     "output_type": "stream",
     "text": [
      "number of words that occured minimum 5 times  18825\n"
     ]
    }
   ],
   "source": [
    "# List of sentence in X_train text\n",
    "sent_of_train=[]\n",
    "for sent in X_train:\n",
    "    sent_of_train.append(sent.split())\n",
    "\n",
    "# List of sentence in X_est text\n",
    "sent_of_test=[]\n",
    "for sent in X_test:\n",
    "    sent_of_test.append(sent.split())   \n",
    "    \n",
    "# Train your own Word2Vec model using your own train text corpus \n",
    "# min_count = 5 considers only words that occured atleast 5 times\n",
    "w2v_model=Word2Vec(sent_of_train,min_count=5,size=50, workers=4)\n",
    "\n",
    "w2v_words = list(w2v_model.wv.vocab)\n",
    "print(\"number of words that occured minimum 5 times \",len(w2v_words))"
   ]
  },
  {
   "cell_type": "markdown",
   "metadata": {},
   "source": [
    "# (3). Avg Word2Vec"
   ]
  },
  {
   "cell_type": "code",
   "execution_count": 27,
   "metadata": {},
   "outputs": [],
   "source": [
    "# compute average word2vec for each review for X_train .\n",
    "train_vectors = []; \n",
    "for sent in sent_of_train:\n",
    "    sent_vec = np.zeros(50) \n",
    "    cnt_words =0; \n",
    "    for word in sent: # \n",
    "        if word in w2v_words:\n",
    "            vec = w2v_model.wv[word]\n",
    "            sent_vec += vec\n",
    "            cnt_words += 1\n",
    "    if cnt_words != 0:\n",
    "        sent_vec /= cnt_words\n",
    "    train_vectors.append(sent_vec)\n",
    "    \n",
    "# compute average word2vec for each review for X_test .\n",
    "test_vectors = []; \n",
    "for sent in sent_of_test:\n",
    "    sent_vec = np.zeros(50) \n",
    "    cnt_words =0; \n",
    "    for word in sent: # \n",
    "        if word in w2v_words:\n",
    "            vec = w2v_model.wv[word]\n",
    "            sent_vec += vec\n",
    "            cnt_words += 1\n",
    "    if cnt_words != 0:\n",
    "        sent_vec /= cnt_words\n",
    "    test_vectors.append(sent_vec) \n",
    "\n",
    "# Data-preprocessing: Standardizing the data\n",
    "sc = StandardScaler()\n",
    "X_train_vec_standardized = sc.fit_transform(train_vectors)\n",
    "X_test_vec_standardized = sc.transform(test_vectors)"
   ]
  },
  {
   "cell_type": "markdown",
   "metadata": {},
   "source": [
    "# GridSearchCV Implementation (SGDClassifier with hinge-loss)"
   ]
  },
  {
   "cell_type": "code",
   "execution_count": 28,
   "metadata": {},
   "outputs": [
    {
     "name": "stdout",
     "output_type": "stream",
     "text": [
      "Model with best parameters :\n",
      " SGDClassifier(alpha=0.001, average=False, class_weight=None, epsilon=0.1,\n",
      "       eta0=0.0, fit_intercept=True, l1_ratio=0.15,\n",
      "       learning_rate='optimal', loss='hinge', max_iter=None, n_iter=None,\n",
      "       n_jobs=1, penalty='l2', power_t=0.5, random_state=None,\n",
      "       shuffle=True, tol=None, verbose=0, warm_start=False)\n",
      "Accuracy of the model :  0.8994974414368232\n",
      "The optimal value of alpha(1/C) is :  0.001\n"
     ]
    }
   ],
   "source": [
    "Alpha = [0.001, 0.01, 0.1, 1, 10]\n",
    "\n",
    "param_grid = {'alpha': Alpha}\n",
    "model = GridSearchCV(SGDClassifier(), param_grid, scoring = 'accuracy', cv=3 , n_jobs = -1,pre_dispatch=2)\n",
    "model.fit(X_train_vec_standardized, Y_train)\n",
    "print(\"Model with best parameters :\\n\",model.best_estimator_)\n",
    "print(\"Accuracy of the model : \",model.score(X_test_vec_standardized, Y_test))\n",
    "\n",
    "optimal_alpha = model.best_estimator_.alpha\n",
    "print(\"The optimal value of alpha(1/C) is : \",optimal_alpha)\n",
    "\n",
    "# SGDClassifier with Optimal value of alpha i.e.(1/C)\n",
    "sgd = SGDClassifier(alpha=optimal_alpha, n_jobs=-1)\n",
    "sgd.fit(X_train_vec_standardized,Y_train)\n",
    "predictions = sgd.predict(X_test_vec_standardized)\n",
    "\n",
    "# Variables that will be used for  making table in Conclusion part of this assignment\n",
    "avg_w2v_grid_alpha = optimal_alpha\n",
    "avg_w2v_grid_train_acc = model.score(X_test_vec_standardized, Y_test)*100\n",
    "avg_w2v_grid_test_acc = accuracy_score(Y_test, predictions) * 100"
   ]
  },
  {
   "cell_type": "code",
   "execution_count": 29,
   "metadata": {},
   "outputs": [
    {
     "name": "stdout",
     "output_type": "stream",
     "text": [
      "\n",
      "The Test Accuracy of the SGDClassifier for alpha = 0.001 is 89.912212%\n",
      "\n",
      "The Test Precision of the SGDClassifier for alpha = 0.001 is 0.917005\n",
      "\n",
      "The Test Recall of the SGDClassifier for alpha = 0.001 is 0.968075\n",
      "\n",
      "The Test F1-Score of the SGDClassifier for alpha = 0.001 is 0.941848\n"
     ]
    }
   ],
   "source": [
    "# evaluate accuracy\n",
    "acc = accuracy_score(Y_test, predictions) * 100\n",
    "print('\\nThe Test Accuracy of the SGDClassifier for alpha = %.3f is %f%%' % (optimal_alpha, acc))\n",
    "\n",
    "# evaluate precision\n",
    "acc = precision_score(Y_test, predictions, pos_label = 'positive') \n",
    "print('\\nThe Test Precision of the SGDClassifier for alpha = %.3f is %f' % (optimal_alpha, acc))\n",
    "\n",
    "# evaluate recall\n",
    "acc = recall_score(Y_test, predictions, pos_label = 'positive')\n",
    "print('\\nThe Test Recall of the SGDClassifier for alpha = %.3f is %f' % (optimal_alpha, acc))\n",
    "\n",
    "# evaluate f1-score\n",
    "acc = f1_score(Y_test, predictions, pos_label = 'positive')\n",
    "print('\\nThe Test F1-Score of the SGDClassifier for alpha = %.3f is %f' % (optimal_alpha, acc))"
   ]
  },
  {
   "cell_type": "markdown",
   "metadata": {},
   "source": [
    "SEABORN HEATMAP FOR REPRESENTATION OF CONFUSION MATRIX :"
   ]
  },
  {
   "cell_type": "code",
   "execution_count": 30,
   "metadata": {},
   "outputs": [
    {
     "data": {
      "image/png": "[encoded data removed]",
      "text/plain": [
       "<Figure size 720x504 with 2 Axes>"
      ]
     },
     "metadata": {},
     "output_type": "display_data"
    }
   ],
   "source": [
    "# Code for drawing seaborn heatmaps\n",
    "class_names = ['negative','positive']\n",
    "df_heatmap = pd.DataFrame(confusion_matrix(Y_test, predictions), index=class_names, columns=class_names )\n",
    "fig = plt.figure(figsize=(10,7))\n",
    "heatmap = sns.heatmap(df_heatmap, annot=True, fmt=\"d\")\n",
    "\n",
    "# Setting tick labels for heatmap\n",
    "heatmap.yaxis.set_ticklabels(heatmap.yaxis.get_ticklabels(), rotation=0, ha='right', fontsize=14)\n",
    "heatmap.xaxis.set_ticklabels(heatmap.xaxis.get_ticklabels(), rotation=0, ha='right', fontsize=14)\n",
    "plt.ylabel('Predicted label',size=18)\n",
    "plt.xlabel('True label',size=18)\n",
    "plt.title(\"Confusion Matrix\\n\",size=24)\n",
    "plt.show()"
   ]
  },
  {
   "cell_type": "markdown",
   "metadata": {},
   "source": [
    "# RandomizedSearchCV Implementation (SGDClassifier with hinge-loss)"
   ]
  },
  {
   "cell_type": "code",
   "execution_count": 31,
   "metadata": {},
   "outputs": [
    {
     "name": "stdout",
     "output_type": "stream",
     "text": [
      "Model with best parameters :\n",
      " SGDClassifier(alpha=0.10100967404664118, average=False, class_weight=None,\n",
      "       epsilon=0.1, eta0=0.0, fit_intercept=True, l1_ratio=0.15,\n",
      "       learning_rate='optimal', loss='hinge', max_iter=None, n_iter=None,\n",
      "       n_jobs=1, penalty='l2', power_t=0.5, random_state=None,\n",
      "       shuffle=True, tol=None, verbose=0, warm_start=False)\n",
      "Accuracy of the model :  0.8790106278778115\n",
      "The optimal value of alpha(1/C) is :  0.10100967404664118\n"
     ]
    }
   ],
   "source": [
    "# Create regularization hyperparameter distribution using uniform distribution\n",
    "Alpha = uniform(loc=0, scale=1)\n",
    "\n",
    "# Create hyperparameter options\n",
    "hyperparameters = dict(alpha=Alpha)\n",
    "\n",
    "#Using RandomizedSearchCV\n",
    "model = RandomizedSearchCV(SGDClassifier(), hyperparameters, scoring = 'accuracy', cv=3 , n_jobs = -1,pre_dispatch=2)\n",
    "model.fit(X_train_vec_standardized, Y_train)\n",
    "print(\"Model with best parameters :\\n\",model.best_estimator_)\n",
    "print(\"Accuracy of the model : \",model.score(X_test_vec_standardized, Y_test))\n",
    "\n",
    "optimal_alpha = model.best_estimator_.alpha\n",
    "print(\"The optimal value of alpha(1/C) is : \",optimal_alpha)\n",
    "\n",
    "# SGDClassifier with Optimal value of alpha i.e.(1/C)\n",
    "sgd = SGDClassifier(alpha=optimal_alpha, n_jobs=-1)\n",
    "sgd.fit(X_train_vec_standardized,Y_train)\n",
    "predictions = sgd.predict(X_test_vec_standardized)\n",
    "\n",
    "# Variables that will be used for  making table in Conclusion part of this assignment\n",
    "avg_w2v_random_alpha = optimal_alpha\n",
    "avg_w2v_random_train_acc = model.score(X_test_vec_standardized, Y_test)*100\n",
    "avg_w2v_random_test_acc = accuracy_score(Y_test, predictions) * 100"
   ]
  },
  {
   "cell_type": "code",
   "execution_count": 32,
   "metadata": {},
   "outputs": [
    {
     "name": "stdout",
     "output_type": "stream",
     "text": [
      "\n",
      "The Test Accuracy of the SGDClassifier for alpha = 0.101 is 87.899232%\n",
      "\n",
      "The Test Precision of the SGDClassifier for alpha = 0.101 is 0.879783\n",
      "\n",
      "The Test Recall of the SGDClassifier for alpha = 0.101 is 0.992179\n",
      "\n",
      "The Test F1-Score of the SGDClassifier for alpha = 0.101 is 0.932607\n"
     ]
    }
   ],
   "source": [
    "# evaluate accuracy\n",
    "acc = accuracy_score(Y_test, predictions) * 100\n",
    "print('\\nThe Test Accuracy of the SGDClassifier for alpha = %.3f is %f%%' % (optimal_alpha, acc))\n",
    "\n",
    "# evaluate precision\n",
    "acc = precision_score(Y_test, predictions, pos_label = 'positive') \n",
    "print('\\nThe Test Precision of the SGDClassifier for alpha = %.3f is %f' % (optimal_alpha, acc))\n",
    "\n",
    "# evaluate recall\n",
    "acc = recall_score(Y_test, predictions, pos_label = 'positive')\n",
    "print('\\nThe Test Recall of the SGDClassifier for alpha = %.3f is %f' % (optimal_alpha, acc))\n",
    "\n",
    "# evaluate f1-score\n",
    "acc = f1_score(Y_test, predictions, pos_label = 'positive')\n",
    "print('\\nThe Test F1-Score of the SGDClassifier for alpha = %.3f is %f' % (optimal_alpha, acc))"
   ]
  },
  {
   "cell_type": "markdown",
   "metadata": {},
   "source": [
    "SEABORN HEATMAP FOR REPRESENTATION OF CONFUSION MATRIX :"
   ]
  },
  {
   "cell_type": "code",
   "execution_count": 33,
   "metadata": {},
   "outputs": [
    {
     "data": {
      "image/png": "[encoded data removed]",
      "text/plain": [
       "<Figure size 720x504 with 2 Axes>"
      ]
     },
     "metadata": {},
     "output_type": "display_data"
    }
   ],
   "source": [
    "# Code for drawing seaborn heatmaps\n",
    "class_names = ['negative','positive']\n",
    "df_heatmap = pd.DataFrame(confusion_matrix(Y_test, predictions), index=class_names, columns=class_names )\n",
    "fig = plt.figure(figsize=(10,7))\n",
    "heatmap = sns.heatmap(df_heatmap, annot=True, fmt=\"d\")\n",
    "\n",
    "# Setting tick labels for heatmap\n",
    "heatmap.yaxis.set_ticklabels(heatmap.yaxis.get_ticklabels(), rotation=0, ha='right', fontsize=14)\n",
    "heatmap.xaxis.set_ticklabels(heatmap.xaxis.get_ticklabels(), rotation=0, ha='right', fontsize=14)\n",
    "plt.ylabel('Predicted label',size=18)\n",
    "plt.xlabel('True label',size=18)\n",
    "plt.title(\"Confusion Matrix\\n\",size=24)\n",
    "plt.show()"
   ]
  },
  {
   "cell_type": "markdown",
   "metadata": {},
   "source": [
    "# (4). TFIDF-Word2Vec"
   ]
  },
  {
   "cell_type": "markdown",
   "metadata": {},
   "source": [
    "NOTE :- It is taking a lot off time to perform TFIDF-Word2Vec on whole 364K rows of data . So , I am performing it with only 100K rows . Please don't mind because I am unable to perform it with whole data due to poor condition of my laptop . But I am completing all the steps as was asked ."
   ]
  },
  {
   "cell_type": "markdown",
   "metadata": {},
   "source": [
    "RANDOMLY SAMPLING 100K POINTS OUT OF WHOLE DATASET"
   ]
  },
  {
   "cell_type": "code",
   "execution_count": 34,
   "metadata": {},
   "outputs": [
    {
     "name": "stdout",
     "output_type": "stream",
     "text": [
      "(100000, 11)\n"
     ]
    }
   ],
   "source": [
    "# We will collect different 100K rows without repetition from time_sorted_data dataframe\n",
    "my_final = time_sorted_data.take(np.random.permutation(len(final))[:100000])\n",
    "print(my_final.shape)\n",
    "\n",
    "x = my_final['CleanedText'].values\n",
    "y = my_final['Score']\n",
    "\n",
    "# split the data set into train and test\n",
    "X_train, X_test, Y_train, Y_test = train_test_split(x, y, test_size=0.3, random_state=0)\n",
    "\n",
    "# List of sentence in X_train text\n",
    "sent_of_train=[]\n",
    "for sent in X_train:\n",
    "    sent_of_train.append(sent.split())\n",
    "\n",
    "# List of sentence in X_est text\n",
    "sent_of_test=[]\n",
    "for sent in X_test:\n",
    "    sent_of_test.append(sent.split()) \n",
    "    \n",
    "w2v_model=Word2Vec(sent_of_train,min_count=5,size=50, workers=4) \n",
    "w2v_words = list(w2v_model.wv.vocab)"
   ]
  },
  {
   "cell_type": "code",
   "execution_count": 35,
   "metadata": {},
   "outputs": [],
   "source": [
    "# TF-IDF weighted Word2Vec\n",
    "tf_idf_vect = TfidfVectorizer()\n",
    "\n",
    "# final_tf_idf1 is the sparse matrix with row= sentence, col=word and cell_val = tfidf\n",
    "final_tf_idf1 = tf_idf_vect.fit_transform(X_train)\n",
    "\n",
    "# tfidf words/col-names\n",
    "tfidf_feat = tf_idf_vect.get_feature_names()\n",
    "\n",
    "# compute TFIDF Weighted Word2Vec for each review for X_test .\n",
    "tfidf_test_vectors = []; \n",
    "row=0;\n",
    "for sent in sent_of_test: \n",
    "    sent_vec = np.zeros(50) \n",
    "    weight_sum =0; \n",
    "    for word in sent: \n",
    "        if word in w2v_words:\n",
    "            vec = w2v_model.wv[word]\n",
    "            # obtain the tf_idfidf of a word in a sentence/review\n",
    "            tf_idf = final_tf_idf1[row, tfidf_feat.index(word)]\n",
    "            sent_vec += (vec * tf_idf)\n",
    "            weight_sum += tf_idf\n",
    "    if weight_sum != 0:\n",
    "        sent_vec /= weight_sum\n",
    "    tfidf_test_vectors.append(sent_vec)\n",
    "    row += 1 "
   ]
  },
  {
   "cell_type": "code",
   "execution_count": 36,
   "metadata": {},
   "outputs": [],
   "source": [
    "# compute TFIDF Weighted Word2Vec for each review for X_train .\n",
    "tfidf_train_vectors = []; \n",
    "row=0;\n",
    "for sent in sent_of_train: \n",
    "    sent_vec = np.zeros(50) \n",
    "    weight_sum =0; \n",
    "    for word in sent: \n",
    "        if word in w2v_words:\n",
    "            vec = w2v_model.wv[word]\n",
    "            # obtain the tf_idfidf of a word in a sentence/review\n",
    "            tf_idf = final_tf_idf1[row, tfidf_feat.index(word)]\n",
    "            sent_vec += (vec * tf_idf)\n",
    "            weight_sum += tf_idf\n",
    "    if weight_sum != 0:\n",
    "        sent_vec /= weight_sum\n",
    "    tfidf_train_vectors.append(sent_vec)\n",
    "    row += 1  \n",
    "    \n",
    "# Data-preprocessing: Standardizing the data\n",
    "sc = StandardScaler()\n",
    "X_train_vec_standardized = sc.fit_transform(tfidf_train_vectors)\n",
    "X_test_vec_standardized = sc.transform(tfidf_test_vectors) "
   ]
  },
  {
   "cell_type": "markdown",
   "metadata": {},
   "source": [
    "# GridSearchCV Implementation (SGDClassifier with hinge-loss)"
   ]
  },
  {
   "cell_type": "code",
   "execution_count": 37,
   "metadata": {},
   "outputs": [
    {
     "name": "stdout",
     "output_type": "stream",
     "text": [
      "Model with best parameters :\n",
      " SGDClassifier(alpha=0.001, average=False, class_weight=None, epsilon=0.1,\n",
      "       eta0=0.0, fit_intercept=True, l1_ratio=0.15,\n",
      "       learning_rate='optimal', loss='hinge', max_iter=None, n_iter=None,\n",
      "       n_jobs=1, penalty='l2', power_t=0.5, random_state=None,\n",
      "       shuffle=True, tol=None, verbose=0, warm_start=False)\n",
      "Accuracy of the model :  0.7664666666666666\n",
      "The optimal value of alpha(1/C) is :  0.001\n"
     ]
    }
   ],
   "source": [
    "Alpha = [0.001, 0.01, 0.1, 1, 10]\n",
    "\n",
    "param_grid = {'alpha': Alpha}\n",
    "model = GridSearchCV(SGDClassifier(), param_grid, scoring = 'accuracy', cv=3 , n_jobs = -1,pre_dispatch=2)\n",
    "model.fit(X_train_vec_standardized, Y_train)\n",
    "print(\"Model with best parameters :\\n\",model.best_estimator_)\n",
    "print(\"Accuracy of the model : \",model.score(X_test_vec_standardized, Y_test))\n",
    "\n",
    "optimal_alpha = model.best_estimator_.alpha\n",
    "print(\"The optimal value of alpha(1/C) is : \",optimal_alpha)\n",
    "\n",
    "# SGDClassifier with Optimal value of alpha i.e.(1/C)\n",
    "sgd = SGDClassifier(alpha=optimal_alpha, n_jobs=-1)\n",
    "sgd.fit(X_train_vec_standardized,Y_train)\n",
    "predictions = sgd.predict(X_test_vec_standardized)\n",
    "\n",
    "# Variables that will be used for  making table in Conclusion part of this assignment\n",
    "tfidf_w2v_grid_alpha = optimal_alpha\n",
    "tfidf_w2v_grid_train_acc = model.score(X_test_vec_standardized, Y_test)*100\n",
    "tfidf_w2v_grid_test_acc = accuracy_score(Y_test, predictions) * 100"
   ]
  },
  {
   "cell_type": "code",
   "execution_count": 38,
   "metadata": {},
   "outputs": [
    {
     "name": "stdout",
     "output_type": "stream",
     "text": [
      "\n",
      "The Test Accuracy of the SGDClassifier for alpha = 0.001 is 77.770000%\n",
      "\n",
      "The Test Precision of the SGDClassifier for alpha = 0.001 is 0.858522\n",
      "\n",
      "The Test Recall of the SGDClassifier for alpha = 0.001 is 0.881825\n",
      "\n",
      "The Test F1-Score of the SGDClassifier for alpha = 0.001 is 0.870018\n"
     ]
    }
   ],
   "source": [
    "# evaluate accuracy\n",
    "acc = accuracy_score(Y_test, predictions) * 100\n",
    "print('\\nThe Test Accuracy of the SGDClassifier for alpha = %.3f is %f%%' % (optimal_alpha, acc))\n",
    "\n",
    "# evaluate precision\n",
    "acc = precision_score(Y_test, predictions, pos_label = 'positive') \n",
    "print('\\nThe Test Precision of the SGDClassifier for alpha = %.3f is %f' % (optimal_alpha, acc))\n",
    "\n",
    "# evaluate recall\n",
    "acc = recall_score(Y_test, predictions, pos_label = 'positive')\n",
    "print('\\nThe Test Recall of the SGDClassifier for alpha = %.3f is %f' % (optimal_alpha, acc))\n",
    "\n",
    "# evaluate f1-score\n",
    "acc = f1_score(Y_test, predictions, pos_label = 'positive')\n",
    "print('\\nThe Test F1-Score of the SGDClassifier for alpha = %.3f is %f' % (optimal_alpha, acc))"
   ]
  },
  {
   "cell_type": "markdown",
   "metadata": {},
   "source": [
    "SEABORN HEATMAP FOR REPRESENTATION OF CONFUSION MATRIX :"
   ]
  },
  {
   "cell_type": "code",
   "execution_count": 39,
   "metadata": {},
   "outputs": [
    {
     "data": {
      "image/png": "[encoded data removed]",
      "text/plain": [
       "<Figure size 720x504 with 2 Axes>"
      ]
     },
     "metadata": {},
     "output_type": "display_data"
    }
   ],
   "source": [
    "# Code for drawing seaborn heatmaps\n",
    "class_names = ['negative','positive']\n",
    "df_heatmap = pd.DataFrame(confusion_matrix(Y_test, predictions), index=class_names, columns=class_names )\n",
    "fig = plt.figure(figsize=(10,7))\n",
    "heatmap = sns.heatmap(df_heatmap, annot=True, fmt=\"d\")\n",
    "\n",
    "# Setting tick labels for heatmap\n",
    "heatmap.yaxis.set_ticklabels(heatmap.yaxis.get_ticklabels(), rotation=0, ha='right', fontsize=14)\n",
    "heatmap.xaxis.set_ticklabels(heatmap.xaxis.get_ticklabels(), rotation=0, ha='right', fontsize=14)\n",
    "plt.ylabel('Predicted label',size=18)\n",
    "plt.xlabel('True label',size=18)\n",
    "plt.title(\"Confusion Matrix\\n\",size=24)\n",
    "plt.show()"
   ]
  },
  {
   "cell_type": "markdown",
   "metadata": {},
   "source": [
    "# RandomizedSearchCV Implementation (SGDClassifier with hinge-loss)"
   ]
  },
  {
   "cell_type": "code",
   "execution_count": 40,
   "metadata": {},
   "outputs": [
    {
     "name": "stdout",
     "output_type": "stream",
     "text": [
      "Model with best parameters :\n",
      " SGDClassifier(alpha=0.007366780682132035, average=False, class_weight=None,\n",
      "       epsilon=0.1, eta0=0.0, fit_intercept=True, l1_ratio=0.15,\n",
      "       learning_rate='optimal', loss='hinge', max_iter=None, n_iter=None,\n",
      "       n_jobs=1, penalty='l2', power_t=0.5, random_state=None,\n",
      "       shuffle=True, tol=None, verbose=0, warm_start=False)\n",
      "Accuracy of the model :  0.7788333333333334\n",
      "The optimal value of alpha(1/C) is :  0.007366780682132035\n"
     ]
    }
   ],
   "source": [
    "# Create regularization hyperparameter distribution using uniform distribution\n",
    "Alpha = uniform(loc=0, scale=1)\n",
    "\n",
    "# Create hyperparameter options\n",
    "hyperparameters = dict(alpha=Alpha)\n",
    "\n",
    "#Using RandomizedSearchCV\n",
    "model = RandomizedSearchCV(SGDClassifier(), hyperparameters, scoring = 'accuracy', cv=3 , n_jobs = -1,pre_dispatch=2)\n",
    "model.fit(X_train_vec_standardized, Y_train)\n",
    "print(\"Model with best parameters :\\n\",model.best_estimator_)\n",
    "print(\"Accuracy of the model : \",model.score(X_test_vec_standardized, Y_test))\n",
    "\n",
    "optimal_alpha = model.best_estimator_.alpha\n",
    "print(\"The optimal value of alpha(1/C) is : \",optimal_alpha)\n",
    "\n",
    "# SGDClassifier with Optimal value of alpha i.e.(1/C)\n",
    "sgd = SGDClassifier(alpha=optimal_alpha, n_jobs=-1)\n",
    "sgd.fit(X_train_vec_standardized,Y_train)\n",
    "predictions = sgd.predict(X_test_vec_standardized)\n",
    "\n",
    "# Variables that will be used for  making table in Conclusion part of this assignment\n",
    "tfidf_w2v_random_alpha = optimal_alpha\n",
    "tfidf_w2v_random_train_acc = model.score(X_test_vec_standardized, Y_test)*100\n",
    "tfidf_w2v_random_test_acc = accuracy_score(Y_test, predictions) * 100"
   ]
  },
  {
   "cell_type": "code",
   "execution_count": 41,
   "metadata": {},
   "outputs": [
    {
     "name": "stdout",
     "output_type": "stream",
     "text": [
      "\n",
      "The Test Accuracy of the SGDClassifier for alpha = 0.007 is 77.893333%\n",
      "\n",
      "The Test Precision of the SGDClassifier for alpha = 0.007 is 0.858751\n",
      "\n",
      "The Test Recall of the SGDClassifier for alpha = 0.007 is 0.883248\n",
      "\n",
      "The Test F1-Score of the SGDClassifier for alpha = 0.007 is 0.870827\n"
     ]
    }
   ],
   "source": [
    "# evaluate accuracy\n",
    "acc = accuracy_score(Y_test, predictions) * 100\n",
    "print('\\nThe Test Accuracy of the SGDClassifier for alpha = %.3f is %f%%' % (optimal_alpha, acc))\n",
    "\n",
    "# evaluate precision\n",
    "acc = precision_score(Y_test, predictions, pos_label = 'positive') \n",
    "print('\\nThe Test Precision of the SGDClassifier for alpha = %.3f is %f' % (optimal_alpha, acc))\n",
    "\n",
    "# evaluate recall\n",
    "acc = recall_score(Y_test, predictions, pos_label = 'positive')\n",
    "print('\\nThe Test Recall of the SGDClassifier for alpha = %.3f is %f' % (optimal_alpha, acc))\n",
    "\n",
    "# evaluate f1-score\n",
    "acc = f1_score(Y_test, predictions, pos_label = 'positive')\n",
    "print('\\nThe Test F1-Score of the SGDClassifier for alpha = %.3f is %f' % (optimal_alpha, acc))"
   ]
  },
  {
   "cell_type": "markdown",
   "metadata": {},
   "source": [
    "SEABORN HEATMAP FOR REPRESENTATION OF CONFUSION MATRIX :"
   ]
  },
  {
   "cell_type": "code",
   "execution_count": 42,
   "metadata": {},
   "outputs": [
    {
     "data": {
      "image/png": "[encoded data removed]",
      "text/plain": [
       "<Figure size 720x504 with 2 Axes>"
      ]
     },
     "metadata": {},
     "output_type": "display_data"
    }
   ],
   "source": [
    "# Code for drawing seaborn heatmaps\n",
    "class_names = ['negative','positive']\n",
    "df_heatmap = pd.DataFrame(confusion_matrix(Y_test, predictions), index=class_names, columns=class_names )\n",
    "fig = plt.figure(figsize=(10,7))\n",
    "heatmap = sns.heatmap(df_heatmap, annot=True, fmt=\"d\")\n",
    "\n",
    "# Setting tick labels for heatmap\n",
    "heatmap.yaxis.set_ticklabels(heatmap.yaxis.get_ticklabels(), rotation=0, ha='right', fontsize=14)\n",
    "heatmap.xaxis.set_ticklabels(heatmap.xaxis.get_ticklabels(), rotation=0, ha='right', fontsize=14)\n",
    "plt.ylabel('Predicted label',size=18)\n",
    "plt.xlabel('True label',size=18)\n",
    "plt.title(\"Confusion Matrix\\n\",size=24)\n",
    "plt.show()"
   ]
  },
  {
   "cell_type": "markdown",
   "metadata": {},
   "source": [
    "# Comparing \"SGDClassifier with hinge-loss\" and \"SVC with RBF kernel\" on a smaller sample for BoW vectorizer"
   ]
  },
  {
   "cell_type": "markdown",
   "metadata": {},
   "source": [
    "RANDOMLY SAMPLING 40K POINTS OUT OF WHOLE DATASET"
   ]
  },
  {
   "cell_type": "code",
   "execution_count": 43,
   "metadata": {},
   "outputs": [
    {
     "name": "stdout",
     "output_type": "stream",
     "text": [
      "Shape of my_final dataframe :  (40000, 11)\n",
      "the type of count vectorizer : <class 'scipy.sparse.csr.csr_matrix'>\n",
      "the shape of out text BOW vectorizer :  (28000, 1308)\n",
      "the number of unique words : 1308\n"
     ]
    }
   ],
   "source": [
    "# We will collect different 40K rows without repetition from time_sorted_data dataframe\n",
    "my_final = time_sorted_data.take(np.random.permutation(len(final))[:40000])\n",
    "print(\"Shape of my_final dataframe : \",my_final.shape)\n",
    "\n",
    "x = my_final['CleanedText'].values\n",
    "y = my_final['Score']\n",
    "\n",
    "# split the data set into train and test\n",
    "X_train, X_test, Y_train, Y_test = train_test_split(x, y, test_size=0.3, random_state=0)\n",
    "\n",
    "#BoW (Bag of Words Vectorizer)\n",
    "count_vect = CountVectorizer(min_df = 100) \n",
    "X_train_vec = count_vect.fit_transform(X_train)\n",
    "X_test_vec = count_vect.transform(X_test)\n",
    "print(\"the type of count vectorizer :\",type(X_train_vec))\n",
    "print(\"the shape of out text BOW vectorizer : \",X_train_vec.get_shape())\n",
    "print(\"the number of unique words :\", X_train_vec.get_shape()[1])\n",
    "\n",
    "# Data-preprocessing: Standardizing the data\n",
    "sc = StandardScaler(with_mean=False)\n",
    "X_train_vec_standardized = sc.fit_transform(X_train_vec)\n",
    "X_test_vec_standardized = sc.transform(X_test_vec)"
   ]
  },
  {
   "cell_type": "markdown",
   "metadata": {},
   "source": [
    "# (a). GridSearchCV Implementation (SGDClassifier with hinge-loss)"
   ]
  },
  {
   "cell_type": "code",
   "execution_count": 44,
   "metadata": {},
   "outputs": [
    {
     "name": "stdout",
     "output_type": "stream",
     "text": [
      "Model with best parameters :\n",
      " SGDClassifier(alpha=0.1, average=False, class_weight=None, epsilon=0.1,\n",
      "       eta0=0.0, fit_intercept=True, l1_ratio=0.15,\n",
      "       learning_rate='optimal', loss='hinge', max_iter=None, n_iter=None,\n",
      "       n_jobs=1, penalty='l2', power_t=0.5, random_state=None,\n",
      "       shuffle=True, tol=None, verbose=0, warm_start=False)\n",
      "Accuracy of the model :  0.9079166666666667\n",
      "The optimal value of alpha(1/C) is :  0.1\n"
     ]
    }
   ],
   "source": [
    "Alpha = [0.001, 0.01, 0.1, 1, 10]\n",
    "\n",
    "param_grid = {'alpha': Alpha}\n",
    "model = GridSearchCV(SGDClassifier(), param_grid, scoring = 'accuracy', cv=3 , n_jobs = -1,pre_dispatch=2)\n",
    "model.fit(X_train_vec_standardized, Y_train)\n",
    "print(\"Model with best parameters :\\n\",model.best_estimator_)\n",
    "print(\"Accuracy of the model : \",model.score(X_test_vec_standardized, Y_test))\n",
    "\n",
    "optimal_alpha = model.best_estimator_.alpha\n",
    "print(\"The optimal value of alpha(1/C) is : \",optimal_alpha)\n",
    "\n",
    "# SGDClassifier with Optimal value of alpha i.e.(1/C)\n",
    "sgd = SGDClassifier(alpha=optimal_alpha, n_jobs=-1)\n",
    "sgd.fit(X_train_vec_standardized,Y_train)\n",
    "predictions = sgd.predict(X_test_vec_standardized)"
   ]
  },
  {
   "cell_type": "code",
   "execution_count": 45,
   "metadata": {},
   "outputs": [
    {
     "name": "stdout",
     "output_type": "stream",
     "text": [
      "\n",
      "The Test Accuracy of the SGDClassifier for alpha = 0.100 is 90.758333%\n",
      "\n",
      "The Test Precision of the SGDClassifier for alpha = 0.100 is 0.920393\n",
      "\n",
      "The Test Recall of the SGDClassifier for alpha = 0.100 is 0.974448\n",
      "\n",
      "The Test F1-Score of the SGDClassifier for alpha = 0.100 is 0.946649\n"
     ]
    }
   ],
   "source": [
    "# evaluate accuracy\n",
    "acc = accuracy_score(Y_test, predictions) * 100\n",
    "print('\\nThe Test Accuracy of the SGDClassifier for alpha = %.3f is %f%%' % (optimal_alpha, acc))\n",
    "\n",
    "# evaluate precision\n",
    "acc = precision_score(Y_test, predictions, pos_label = 'positive') \n",
    "print('\\nThe Test Precision of the SGDClassifier for alpha = %.3f is %f' % (optimal_alpha, acc))\n",
    "\n",
    "# evaluate recall\n",
    "acc = recall_score(Y_test, predictions, pos_label = 'positive')\n",
    "print('\\nThe Test Recall of the SGDClassifier for alpha = %.3f is %f' % (optimal_alpha, acc))\n",
    "\n",
    "# evaluate f1-score\n",
    "acc = f1_score(Y_test, predictions, pos_label = 'positive')\n",
    "print('\\nThe Test F1-Score of the SGDClassifier for alpha = %.3f is %f' % (optimal_alpha, acc))"
   ]
  },
  {
   "cell_type": "markdown",
   "metadata": {},
   "source": [
    "SEABORN HEATMAP FOR REPRESENTATION OF CONFUSION MATRIX :"
   ]
  },
  {
   "cell_type": "code",
   "execution_count": 46,
   "metadata": {},
   "outputs": [
    {
     "data": {
      "image/png": "[encoded data removed]",
      "text/plain": [
       "<Figure size 720x504 with 2 Axes>"
      ]
     },
     "metadata": {},
     "output_type": "display_data"
    }
   ],
   "source": [
    "# Code for drawing seaborn heatmaps\n",
    "class_names = ['negative','positive']\n",
    "df_heatmap = pd.DataFrame(confusion_matrix(Y_test, predictions), index=class_names, columns=class_names )\n",
    "fig = plt.figure(figsize=(10,7))\n",
    "heatmap = sns.heatmap(df_heatmap, annot=True, fmt=\"d\")\n",
    "\n",
    "# Setting tick labels for heatmap\n",
    "heatmap.yaxis.set_ticklabels(heatmap.yaxis.get_ticklabels(), rotation=0, ha='right', fontsize=14)\n",
    "heatmap.xaxis.set_ticklabels(heatmap.xaxis.get_ticklabels(), rotation=0, ha='right', fontsize=14)\n",
    "plt.ylabel('Predicted label',size=18)\n",
    "plt.xlabel('True label',size=18)\n",
    "plt.title(\"Confusion Matrix\\n\",size=24)\n",
    "plt.show()"
   ]
  },
  {
   "cell_type": "markdown",
   "metadata": {},
   "source": [
    "#  (a).GridSearchCV Implementation (SVC with RBF kernel)"
   ]
  },
  {
   "cell_type": "code",
   "execution_count": 47,
   "metadata": {},
   "outputs": [
    {
     "name": "stdout",
     "output_type": "stream",
     "text": [
      "Model with best parameters :\n",
      " SVC(C=4, cache_size=200, class_weight=None, coef0=0.0,\n",
      "  decision_function_shape='ovr', degree=3, gamma='auto', kernel='rbf',\n",
      "  max_iter=-1, probability=False, random_state=None, shrinking=True,\n",
      "  tol=0.001, verbose=False)\n",
      "Accuracy of the model :  0.8991666666666667\n",
      "The optimal value of C is :  4\n"
     ]
    }
   ],
   "source": [
    "from sklearn.svm import SVC\n",
    "\n",
    "C_range = [1,2,4,8,16,32]\n",
    "\n",
    "param_grid = {'C': C_range}\n",
    "model = GridSearchCV(SVC(), param_grid, scoring = 'accuracy', cv=3 , n_jobs = -1,pre_dispatch=2)\n",
    "model.fit(X_train_vec_standardized, Y_train)\n",
    "print(\"Model with best parameters :\\n\",model.best_estimator_)\n",
    "print(\"Accuracy of the model : \",model.score(X_test_vec_standardized, Y_test))\n",
    "\n",
    "optimal_C = model.best_estimator_.C\n",
    "print(\"The optimal value of C is : \",optimal_C)\n",
    "\n",
    "# SVC with RBF kernel with Optimal value of C\n",
    "svc = SVC(C=optimal_C)\n",
    "svc.fit(X_train_vec_standardized,Y_train)\n",
    "predictions = svc.predict(X_test_vec_standardized)"
   ]
  },
  {
   "cell_type": "code",
   "execution_count": 51,
   "metadata": {},
   "outputs": [
    {
     "name": "stdout",
     "output_type": "stream",
     "text": [
      "\n",
      "The Test Accuracy of SVC with RBF kernel for C = 4 is 89.916667%\n",
      "\n",
      "The Test Precision of SVC with RBF kernel for C = 4 is 0.911397\n",
      "\n",
      "The Test Recall of SVC with RBF kernel for C = 4 is 0.974943\n",
      "\n",
      "The Test F1-Score of SVC with RBF kernel for C = 4 is 0.942100\n"
     ]
    }
   ],
   "source": [
    "# evaluate accuracy\n",
    "acc = accuracy_score(Y_test, predictions) * 100\n",
    "print('\\nThe Test Accuracy of SVC with RBF kernel for C = %d is %f%%' % (optimal_C, acc))\n",
    "\n",
    "# evaluate precision\n",
    "acc = precision_score(Y_test, predictions, pos_label = 'positive') \n",
    "print('\\nThe Test Precision of SVC with RBF kernel for C = %d is %f' % (optimal_C, acc))\n",
    "\n",
    "# evaluate recall\n",
    "acc = recall_score(Y_test, predictions, pos_label = 'positive')\n",
    "print('\\nThe Test Recall of SVC with RBF kernel for C = %d is %f' % (optimal_C, acc))\n",
    "\n",
    "# evaluate f1-score\n",
    "acc = f1_score(Y_test, predictions, pos_label = 'positive')\n",
    "print('\\nThe Test F1-Score of SVC with RBF kernel for C = %d is %f' % (optimal_C, acc))"
   ]
  },
  {
   "cell_type": "markdown",
   "metadata": {},
   "source": [
    "SEABORN HEATMAP FOR REPRESENTATION OF CONFUSION MATRIX :"
   ]
  },
  {
   "cell_type": "code",
   "execution_count": 52,
   "metadata": {},
   "outputs": [
    {
     "data": {
      "image/png": "[encoded data removed]",
      "text/plain": [
       "<Figure size 720x504 with 2 Axes>"
      ]
     },
     "metadata": {},
     "output_type": "display_data"
    }
   ],
   "source": [
    "# Code for drawing seaborn heatmaps\n",
    "class_names = ['negative','positive']\n",
    "df_heatmap = pd.DataFrame(confusion_matrix(Y_test, predictions), index=class_names, columns=class_names )\n",
    "fig = plt.figure(figsize=(10,7))\n",
    "heatmap = sns.heatmap(df_heatmap, annot=True, fmt=\"d\")\n",
    "\n",
    "# Setting tick labels for heatmap\n",
    "heatmap.yaxis.set_ticklabels(heatmap.yaxis.get_ticklabels(), rotation=0, ha='right', fontsize=14)\n",
    "heatmap.xaxis.set_ticklabels(heatmap.xaxis.get_ticklabels(), rotation=0, ha='right', fontsize=14)\n",
    "plt.ylabel('Predicted label',size=18)\n",
    "plt.xlabel('True label',size=18)\n",
    "plt.title(\"Confusion Matrix\\n\",size=24)\n",
    "plt.show()"
   ]
  },
  {
   "cell_type": "markdown",
   "metadata": {},
   "source": [
    "# CONCLUSION :-"
   ]
  },
  {
   "cell_type": "markdown",
   "metadata": {},
   "source": [
    "# (a). Procedure followed :"
   ]
  },
  {
   "cell_type": "markdown",
   "metadata": {},
   "source": [
    "STEP 1 :- Text Preprocessing"
   ]
  },
  {
   "cell_type": "markdown",
   "metadata": {},
   "source": [
    "STEP 2:- Time-based splitting of whole dataset into train_data and test_data"
   ]
  },
  {
   "cell_type": "markdown",
   "metadata": {},
   "source": [
    "STEP 3:- Training the vectorizer on train_data and later applying same vectorizer on both train_data and test_data to transform them into vectors"
   ]
  },
  {
   "cell_type": "markdown",
   "metadata": {},
   "source": [
    "STEP 4:- Using SGDClassifier with hinge-loss as an estimator in both GridSearchCV and RandomizedSearchCV in order to find optimal value of alpha i.e(1/C)"
   ]
  },
  {
   "cell_type": "markdown",
   "metadata": {},
   "source": [
    "STEP 5:- Once , we get optimal value of alpha then train SGDClassifier with hinge-loss again with this optimal alpha and make predictions on test_data"
   ]
  },
  {
   "cell_type": "markdown",
   "metadata": {},
   "source": [
    "STEP 6 :- Evaluate : Accuracy , F1-Score , Precision , Recall"
   ]
  },
  {
   "cell_type": "markdown",
   "metadata": {},
   "source": [
    "STEP 7:- Draw Seaborn Heatmap for Confusion Matrix ."
   ]
  },
  {
   "cell_type": "markdown",
   "metadata": {},
   "source": [
    "STEP 8:- Implement SVC with RBF kernel on 40K randomly sampled data from whole dataset for BoW (Bag of Words) vectorizer and compare its result with SGD implementation on same 40K randomly sampled data."
   ]
  },
  {
   "cell_type": "markdown",
   "metadata": {},
   "source": [
    "Repeat from STEP 3 to STEP 7 for each of these four vectorizers : Bag Of Words(BoW), TFIDF, Avg Word2Vec and TFIDF Word2Vec"
   ]
  },
  {
   "cell_type": "markdown",
   "metadata": {},
   "source": [
    "# (b). Table (Model Performances with their hyperparameters :"
   ]
  },
  {
   "cell_type": "code",
   "execution_count": 53,
   "metadata": {},
   "outputs": [
    {
     "name": "stdout",
     "output_type": "stream",
     "text": [
      "+-------+----------------------------------------------+----------------------+-------------------+-------------------+\n",
      "| S.NO. |                    MODEL                     |   Best Alpha(1/C)    | Training Accuracy |   Test Accuracy   |\n",
      "+-------+----------------------------------------------+----------------------+-------------------+-------------------+\n",
      "|   1   |         SGD in GridSearchCV for BoW          |         0.1          | 92.20073049496068 |  92.2062229382741 |\n",
      "|   2   |      SGD in RandomizedSearchCV for BoW       | 0.05856537013282603  | 92.23185434040333 | 92.25382411365696 |\n",
      "|   3   |        SGD in GridSearchCV for TFIDF         |         0.1          |  91.8684376744995 | 91.79337428254959 |\n",
      "|   4   |     SGD in RandomizedSearchCV for TFIDF      | 0.10939671536861173  | 91.75401177213683 | 91.78238939592278 |\n",
      "|   5   |     SGD in GridSearchCV for Avg_Word2Vec     |        0.001         | 89.94974414368232 | 89.91221244770736 |\n",
      "|   6   |  SGD in RandomizedSearchCV for Avg_Word2Vec  | 0.10100967404664118  | 87.90106278778114 | 87.89923197334333 |\n",
      "|   7   |    SGD in GridSearchCV for tfidf_Word2Vec    |        0.001         | 76.64666666666666 |       77.77       |\n",
      "|   8   | SGD in RandomizedSearchCV for tfidf_Word2Vec | 0.007366780682132035 | 77.88333333333334 | 77.89333333333333 |\n",
      "+-------+----------------------------------------------+----------------------+-------------------+-------------------+\n"
     ]
    }
   ],
   "source": [
    "# Creating table using PrettyTable library\n",
    "from prettytable import PrettyTable\n",
    "\n",
    "# Names of models\n",
    "names = ['SGD in GridSearchCV for BoW','SGD in RandomizedSearchCV for BoW','SGD in GridSearchCV for TFIDF',\\\n",
    "         'SGD in RandomizedSearchCV for TFIDF','SGD in GridSearchCV for Avg_Word2Vec',\\\n",
    "         'SGD in RandomizedSearchCV for Avg_Word2Vec','SGD in GridSearchCV for tfidf_Word2Vec',\\\n",
    "         'SGD in RandomizedSearchCV for tfidf_Word2Vec']\n",
    "\n",
    "# Optimal values of alpha i.e. (1/C)\n",
    "optimal_alpha = [bow_grid_alpha,bow_random_alpha,tfidf_grid_alpha,tfidf_random_alpha,avg_w2v_grid_alpha,\\\n",
    "                 avg_w2v_random_alpha,tfidf_w2v_grid_alpha,tfidf_w2v_random_alpha]\n",
    "\n",
    "# Training accuracies\n",
    "train_acc = [bow_grid_train_acc,bow_random_train_acc,tfidf_grid_train_acc,tfidf_random_train_acc,avg_w2v_grid_train_acc,\\\n",
    "                 avg_w2v_random_train_acc,tfidf_w2v_grid_train_acc,tfidf_w2v_random_train_acc]\n",
    "\n",
    "# Test accuracies\n",
    "test_acc = [bow_grid_test_acc,bow_random_test_acc,tfidf_grid_test_acc,tfidf_random_test_acc,avg_w2v_grid_test_acc,\\\n",
    "                 avg_w2v_random_test_acc,tfidf_w2v_grid_test_acc,tfidf_w2v_random_test_acc]\n",
    "\n",
    "numbering = [1,2,3,4,5,6,7,8]\n",
    "\n",
    "# Initializing prettytable\n",
    "ptable = PrettyTable()\n",
    "\n",
    "# Adding columns\n",
    "ptable.add_column(\"S.NO.\",numbering)\n",
    "ptable.add_column(\"MODEL\",names)\n",
    "ptable.add_column(\"Best Alpha(1/C)\",optimal_alpha)\n",
    "ptable.add_column(\"Training Accuracy\",train_acc)\n",
    "ptable.add_column(\"Test Accuracy\",test_acc)\n",
    "\n",
    "# Printing the Table\n",
    "print(ptable)"
   ]
  },
  {
   "cell_type": "code",
   "execution_count": null,
   "metadata": {},
   "outputs": [],
   "source": []
  }
 ],
 "metadata": {
  "kernelspec": {
   "display_name": "Python 3",
   "language": "python",
   "name": "python3"
  },
  "language_info": {
   "codemirror_mode": {
    "name": "ipython",
    "version": 3
   },
   "file_extension": ".py",
   "mimetype": "text/x-python",
   "name": "python",
   "nbconvert_exporter": "python",
   "pygments_lexer": "ipython3",
   "version": "3.6.5"
  }
 },
 "nbformat": 4,
 "nbformat_minor": 2
}
